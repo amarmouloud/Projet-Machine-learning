{
 "cells": [
  {
   "cell_type": "markdown",
   "metadata": {},
   "source": [
    "<img src=\"https://www.bestdesigns.co/uploads/inspiration_images/4350/990__1511457498_404_walmart.png\" alt=\"WALMART LOGO\" />\n",
    "\n",
    "# Walmart : predict weekly sales\n",
    "\n",
    "## Company's Description 📇\n",
    "\n",
    "Walmart Inc. is an American multinational retail corporation that operates a chain of hypermarkets, discount department stores, and grocery stores from the United States, headquartered in Bentonville, Arkansas. The company was founded by Sam Walton in 1962.\n",
    "\n",
    "## Project 🚧\n",
    "\n",
    "Walmart's marketing service has asked you to build a machine learning model able to estimate the weekly sales in their stores, with the best precision possible on the predictions made. Such a model would help them understand better how the sales are influenced by economic indicators, and might be used to plan future marketing campaigns.\n",
    "\n",
    "## Goals 🎯\n",
    "\n",
    "The project can be divided into three steps:\n",
    "\n",
    "- Part 1 : make an EDA and all the necessary preprocessings to prepare data for machine learning\n",
    "- Part 2 : train a **linear regression model** (baseline)\n",
    "- Part 3 : avoid overfitting by training a **regularized regression model**\n",
    "\n",
    "## Scope of this project 🖼️\n",
    "\n",
    "For this project, you'll work with a dataset that contains information about weekly sales achieved by different Walmart stores, and other variables such as the unemployment rate or the fuel price, that might be useful for predicting the amount of sales. The dataset has been taken from a Kaggle competition, but we made some changes compared to the original data. Please make sure that you're using **our** custom dataset (available on JULIE). 🤓"
   ]
  },
  {
   "cell_type": "code",
   "execution_count": 13,
   "metadata": {},
   "outputs": [
    {
     "ename": "SyntaxError",
     "evalue": "invalid syntax (217776850.py, line 1)",
     "output_type": "error",
     "traceback": [
      "\u001b[0;36m  Input \u001b[0;32mIn [13]\u001b[0;36m\u001b[0m\n\u001b[0;31m    https://app.jedha.co/course/projects-supervised-machine-learning-pt/walmart-sales-pt\u001b[0m\n\u001b[0m          ^\u001b[0m\n\u001b[0;31mSyntaxError\u001b[0m\u001b[0;31m:\u001b[0m invalid syntax\n"
     ]
    }
   ],
   "source": [
    "https://app.jedha.co/course/projects-supervised-machine-learning-pt/walmart-sales-pt\n"
   ]
  },
  {
   "cell_type": "code",
   "execution_count": 14,
   "metadata": {},
   "outputs": [],
   "source": [
    "import pandas as pd\n",
    "import numpy as np\n",
    "import pandas as pd\n",
    "import numpy as np\n",
    "from sklearn.model_selection import train_test_split\n",
    "from sklearn.pipeline import Pipeline\n",
    "from sklearn.impute import SimpleImputer\n",
    "from sklearn.preprocessing import  OneHotEncoder, StandardScaler, LabelEncoder\n",
    "from sklearn.compose import ColumnTransformer\n",
    "from sklearn.linear_model import LogisticRegression\n",
    "from sklearn.metrics import accuracy_score\n",
    "import warnings\n",
    "warnings.filterwarnings(\"ignore\", category=DeprecationWarning) # to avoid deprecation warnings\n",
    "from sklearn.model_selection import GridSearchCV\n",
    "from sklearn.preprocessing import StandardScaler\n",
    "from sklearn.linear_model import LinearRegression\n",
    "from sklearn.linear_model import Lasso\n",
    "from sklearn.metrics import r2_score, mean_squared_error\n",
    "import warnings\n",
    "warnings.filterwarnings(\"ignore\", category=DeprecationWarning) # to avoid deprecation warnings\n",
    "\n",
    "import plotly.express as px\n",
    "import plotly.graph_objects as go\n",
    "import plotly.io as pio\n",
    "import seaborn as sns\n",
    "import matplotlib.pyplot as plt\n",
    "import pandas as pd\n",
    "# setting Jedha color palette as default\n",
    "pio.templates[\"jedha\"] = go.layout.Template(\n",
    "    layout_colorway=[\"#4B9AC7\", \"#4BE8E0\", \"#9DD4F3\", \"#97FBF6\", \"#2A7FAF\", \"#23B1AB\", \"#0E3449\", \"#015955\"]\n",
    ")\n",
    "pio.templates.default = \"jedha\"\n",
    "pio.renderers.default = \"iframe\" # to be replaced by \"iframe\" if working on JULIE"
   ]
  },
  {
   "cell_type": "code",
   "execution_count": null,
   "metadata": {},
   "outputs": [],
   "source": []
  },
  {
   "cell_type": "code",
   "execution_count": null,
   "metadata": {},
   "outputs": [],
   "source": []
  },
  {
   "cell_type": "markdown",
   "metadata": {},
   "source": [
    "1 description du DATASET"
   ]
  },
  {
   "cell_type": "code",
   "execution_count": 15,
   "metadata": {},
   "outputs": [
    {
     "data": {
      "text/html": [
       "<div>\n",
       "<style scoped>\n",
       "    .dataframe tbody tr th:only-of-type {\n",
       "        vertical-align: middle;\n",
       "    }\n",
       "\n",
       "    .dataframe tbody tr th {\n",
       "        vertical-align: top;\n",
       "    }\n",
       "\n",
       "    .dataframe thead th {\n",
       "        text-align: right;\n",
       "    }\n",
       "</style>\n",
       "<table border=\"1\" class=\"dataframe\">\n",
       "  <thead>\n",
       "    <tr style=\"text-align: right;\">\n",
       "      <th></th>\n",
       "      <th>Store</th>\n",
       "      <th>Date</th>\n",
       "      <th>Weekly_Sales</th>\n",
       "      <th>Holiday_Flag</th>\n",
       "      <th>Temperature</th>\n",
       "      <th>Fuel_Price</th>\n",
       "      <th>CPI</th>\n",
       "      <th>Unemployment</th>\n",
       "    </tr>\n",
       "  </thead>\n",
       "  <tbody>\n",
       "    <tr>\n",
       "      <th>0</th>\n",
       "      <td>6.0</td>\n",
       "      <td>18-02-2011</td>\n",
       "      <td>1572117.54</td>\n",
       "      <td>NaN</td>\n",
       "      <td>59.61</td>\n",
       "      <td>3.045</td>\n",
       "      <td>214.777523</td>\n",
       "      <td>6.858</td>\n",
       "    </tr>\n",
       "    <tr>\n",
       "      <th>1</th>\n",
       "      <td>13.0</td>\n",
       "      <td>25-03-2011</td>\n",
       "      <td>1807545.43</td>\n",
       "      <td>0.0</td>\n",
       "      <td>42.38</td>\n",
       "      <td>3.435</td>\n",
       "      <td>128.616064</td>\n",
       "      <td>7.470</td>\n",
       "    </tr>\n",
       "    <tr>\n",
       "      <th>2</th>\n",
       "      <td>17.0</td>\n",
       "      <td>27-07-2012</td>\n",
       "      <td>NaN</td>\n",
       "      <td>0.0</td>\n",
       "      <td>NaN</td>\n",
       "      <td>NaN</td>\n",
       "      <td>130.719581</td>\n",
       "      <td>5.936</td>\n",
       "    </tr>\n",
       "    <tr>\n",
       "      <th>3</th>\n",
       "      <td>11.0</td>\n",
       "      <td>NaN</td>\n",
       "      <td>1244390.03</td>\n",
       "      <td>0.0</td>\n",
       "      <td>84.57</td>\n",
       "      <td>NaN</td>\n",
       "      <td>214.556497</td>\n",
       "      <td>7.346</td>\n",
       "    </tr>\n",
       "    <tr>\n",
       "      <th>4</th>\n",
       "      <td>6.0</td>\n",
       "      <td>28-05-2010</td>\n",
       "      <td>1644470.66</td>\n",
       "      <td>0.0</td>\n",
       "      <td>78.89</td>\n",
       "      <td>2.759</td>\n",
       "      <td>212.412888</td>\n",
       "      <td>7.092</td>\n",
       "    </tr>\n",
       "    <tr>\n",
       "      <th>5</th>\n",
       "      <td>4.0</td>\n",
       "      <td>28-05-2010</td>\n",
       "      <td>1857533.70</td>\n",
       "      <td>0.0</td>\n",
       "      <td>NaN</td>\n",
       "      <td>2.756</td>\n",
       "      <td>126.160226</td>\n",
       "      <td>7.896</td>\n",
       "    </tr>\n",
       "    <tr>\n",
       "      <th>6</th>\n",
       "      <td>15.0</td>\n",
       "      <td>03-06-2011</td>\n",
       "      <td>695396.19</td>\n",
       "      <td>0.0</td>\n",
       "      <td>69.80</td>\n",
       "      <td>4.069</td>\n",
       "      <td>134.855161</td>\n",
       "      <td>7.658</td>\n",
       "    </tr>\n",
       "    <tr>\n",
       "      <th>7</th>\n",
       "      <td>20.0</td>\n",
       "      <td>03-02-2012</td>\n",
       "      <td>2203523.20</td>\n",
       "      <td>0.0</td>\n",
       "      <td>39.93</td>\n",
       "      <td>3.617</td>\n",
       "      <td>213.023622</td>\n",
       "      <td>6.961</td>\n",
       "    </tr>\n",
       "    <tr>\n",
       "      <th>8</th>\n",
       "      <td>14.0</td>\n",
       "      <td>10-12-2010</td>\n",
       "      <td>2600519.26</td>\n",
       "      <td>0.0</td>\n",
       "      <td>30.54</td>\n",
       "      <td>3.109</td>\n",
       "      <td>NaN</td>\n",
       "      <td>NaN</td>\n",
       "    </tr>\n",
       "    <tr>\n",
       "      <th>9</th>\n",
       "      <td>3.0</td>\n",
       "      <td>NaN</td>\n",
       "      <td>418925.47</td>\n",
       "      <td>0.0</td>\n",
       "      <td>60.12</td>\n",
       "      <td>3.555</td>\n",
       "      <td>224.132020</td>\n",
       "      <td>6.833</td>\n",
       "    </tr>\n",
       "  </tbody>\n",
       "</table>\n",
       "</div>"
      ],
      "text/plain": [
       "   Store        Date  Weekly_Sales  Holiday_Flag  Temperature  Fuel_Price  \\\n",
       "0    6.0  18-02-2011    1572117.54           NaN        59.61       3.045   \n",
       "1   13.0  25-03-2011    1807545.43           0.0        42.38       3.435   \n",
       "2   17.0  27-07-2012           NaN           0.0          NaN         NaN   \n",
       "3   11.0         NaN    1244390.03           0.0        84.57         NaN   \n",
       "4    6.0  28-05-2010    1644470.66           0.0        78.89       2.759   \n",
       "5    4.0  28-05-2010    1857533.70           0.0          NaN       2.756   \n",
       "6   15.0  03-06-2011     695396.19           0.0        69.80       4.069   \n",
       "7   20.0  03-02-2012    2203523.20           0.0        39.93       3.617   \n",
       "8   14.0  10-12-2010    2600519.26           0.0        30.54       3.109   \n",
       "9    3.0         NaN     418925.47           0.0        60.12       3.555   \n",
       "\n",
       "          CPI  Unemployment  \n",
       "0  214.777523         6.858  \n",
       "1  128.616064         7.470  \n",
       "2  130.719581         5.936  \n",
       "3  214.556497         7.346  \n",
       "4  212.412888         7.092  \n",
       "5  126.160226         7.896  \n",
       "6  134.855161         7.658  \n",
       "7  213.023622         6.961  \n",
       "8         NaN           NaN  \n",
       "9  224.132020         6.833  "
      ]
     },
     "execution_count": 15,
     "metadata": {},
     "output_type": "execute_result"
    }
   ],
   "source": [
    "df = pd.read_csv(\"Walmart_Store_sales.csv\")\n",
    "df.head(10)"
   ]
  },
  {
   "cell_type": "code",
   "execution_count": 16,
   "metadata": {},
   "outputs": [
    {
     "data": {
      "text/plain": [
       "(150, 8)"
      ]
     },
     "execution_count": 16,
     "metadata": {},
     "output_type": "execute_result"
    }
   ],
   "source": [
    "df.shape"
   ]
  },
  {
   "cell_type": "code",
   "execution_count": 17,
   "metadata": {},
   "outputs": [
    {
     "name": "stdout",
     "output_type": "stream",
     "text": [
      "Number of rows : 150\n",
      "\n",
      "Display of dataset: \n"
     ]
    },
    {
     "data": {
      "text/html": [
       "<div>\n",
       "<style scoped>\n",
       "    .dataframe tbody tr th:only-of-type {\n",
       "        vertical-align: middle;\n",
       "    }\n",
       "\n",
       "    .dataframe tbody tr th {\n",
       "        vertical-align: top;\n",
       "    }\n",
       "\n",
       "    .dataframe thead th {\n",
       "        text-align: right;\n",
       "    }\n",
       "</style>\n",
       "<table border=\"1\" class=\"dataframe\">\n",
       "  <thead>\n",
       "    <tr style=\"text-align: right;\">\n",
       "      <th></th>\n",
       "      <th>Store</th>\n",
       "      <th>Date</th>\n",
       "      <th>Weekly_Sales</th>\n",
       "      <th>Holiday_Flag</th>\n",
       "      <th>Temperature</th>\n",
       "      <th>Fuel_Price</th>\n",
       "      <th>CPI</th>\n",
       "      <th>Unemployment</th>\n",
       "    </tr>\n",
       "  </thead>\n",
       "  <tbody>\n",
       "    <tr>\n",
       "      <th>0</th>\n",
       "      <td>6.0</td>\n",
       "      <td>18-02-2011</td>\n",
       "      <td>1572117.54</td>\n",
       "      <td>NaN</td>\n",
       "      <td>59.61</td>\n",
       "      <td>3.045</td>\n",
       "      <td>214.777523</td>\n",
       "      <td>6.858</td>\n",
       "    </tr>\n",
       "    <tr>\n",
       "      <th>1</th>\n",
       "      <td>13.0</td>\n",
       "      <td>25-03-2011</td>\n",
       "      <td>1807545.43</td>\n",
       "      <td>0.0</td>\n",
       "      <td>42.38</td>\n",
       "      <td>3.435</td>\n",
       "      <td>128.616064</td>\n",
       "      <td>7.470</td>\n",
       "    </tr>\n",
       "    <tr>\n",
       "      <th>2</th>\n",
       "      <td>17.0</td>\n",
       "      <td>27-07-2012</td>\n",
       "      <td>NaN</td>\n",
       "      <td>0.0</td>\n",
       "      <td>NaN</td>\n",
       "      <td>NaN</td>\n",
       "      <td>130.719581</td>\n",
       "      <td>5.936</td>\n",
       "    </tr>\n",
       "    <tr>\n",
       "      <th>3</th>\n",
       "      <td>11.0</td>\n",
       "      <td>NaN</td>\n",
       "      <td>1244390.03</td>\n",
       "      <td>0.0</td>\n",
       "      <td>84.57</td>\n",
       "      <td>NaN</td>\n",
       "      <td>214.556497</td>\n",
       "      <td>7.346</td>\n",
       "    </tr>\n",
       "    <tr>\n",
       "      <th>4</th>\n",
       "      <td>6.0</td>\n",
       "      <td>28-05-2010</td>\n",
       "      <td>1644470.66</td>\n",
       "      <td>0.0</td>\n",
       "      <td>78.89</td>\n",
       "      <td>2.759</td>\n",
       "      <td>212.412888</td>\n",
       "      <td>7.092</td>\n",
       "    </tr>\n",
       "  </tbody>\n",
       "</table>\n",
       "</div>"
      ],
      "text/plain": [
       "   Store        Date  Weekly_Sales  Holiday_Flag  Temperature  Fuel_Price  \\\n",
       "0    6.0  18-02-2011    1572117.54           NaN        59.61       3.045   \n",
       "1   13.0  25-03-2011    1807545.43           0.0        42.38       3.435   \n",
       "2   17.0  27-07-2012           NaN           0.0          NaN         NaN   \n",
       "3   11.0         NaN    1244390.03           0.0        84.57         NaN   \n",
       "4    6.0  28-05-2010    1644470.66           0.0        78.89       2.759   \n",
       "\n",
       "          CPI  Unemployment  \n",
       "0  214.777523         6.858  \n",
       "1  128.616064         7.470  \n",
       "2  130.719581         5.936  \n",
       "3  214.556497         7.346  \n",
       "4  212.412888         7.092  "
      ]
     },
     "metadata": {},
     "output_type": "display_data"
    },
    {
     "name": "stdout",
     "output_type": "stream",
     "text": [
      "\n",
      "Basics statistics: \n"
     ]
    },
    {
     "data": {
      "text/html": [
       "<div>\n",
       "<style scoped>\n",
       "    .dataframe tbody tr th:only-of-type {\n",
       "        vertical-align: middle;\n",
       "    }\n",
       "\n",
       "    .dataframe tbody tr th {\n",
       "        vertical-align: top;\n",
       "    }\n",
       "\n",
       "    .dataframe thead th {\n",
       "        text-align: right;\n",
       "    }\n",
       "</style>\n",
       "<table border=\"1\" class=\"dataframe\">\n",
       "  <thead>\n",
       "    <tr style=\"text-align: right;\">\n",
       "      <th></th>\n",
       "      <th>Store</th>\n",
       "      <th>Date</th>\n",
       "      <th>Weekly_Sales</th>\n",
       "      <th>Holiday_Flag</th>\n",
       "      <th>Temperature</th>\n",
       "      <th>Fuel_Price</th>\n",
       "      <th>CPI</th>\n",
       "      <th>Unemployment</th>\n",
       "    </tr>\n",
       "  </thead>\n",
       "  <tbody>\n",
       "    <tr>\n",
       "      <th>count</th>\n",
       "      <td>150.000000</td>\n",
       "      <td>132</td>\n",
       "      <td>1.360000e+02</td>\n",
       "      <td>138.000000</td>\n",
       "      <td>132.000000</td>\n",
       "      <td>136.000000</td>\n",
       "      <td>138.000000</td>\n",
       "      <td>135.000000</td>\n",
       "    </tr>\n",
       "    <tr>\n",
       "      <th>unique</th>\n",
       "      <td>NaN</td>\n",
       "      <td>85</td>\n",
       "      <td>NaN</td>\n",
       "      <td>NaN</td>\n",
       "      <td>NaN</td>\n",
       "      <td>NaN</td>\n",
       "      <td>NaN</td>\n",
       "      <td>NaN</td>\n",
       "    </tr>\n",
       "    <tr>\n",
       "      <th>top</th>\n",
       "      <td>NaN</td>\n",
       "      <td>19-10-2012</td>\n",
       "      <td>NaN</td>\n",
       "      <td>NaN</td>\n",
       "      <td>NaN</td>\n",
       "      <td>NaN</td>\n",
       "      <td>NaN</td>\n",
       "      <td>NaN</td>\n",
       "    </tr>\n",
       "    <tr>\n",
       "      <th>freq</th>\n",
       "      <td>NaN</td>\n",
       "      <td>4</td>\n",
       "      <td>NaN</td>\n",
       "      <td>NaN</td>\n",
       "      <td>NaN</td>\n",
       "      <td>NaN</td>\n",
       "      <td>NaN</td>\n",
       "      <td>NaN</td>\n",
       "    </tr>\n",
       "    <tr>\n",
       "      <th>mean</th>\n",
       "      <td>9.866667</td>\n",
       "      <td>NaN</td>\n",
       "      <td>1.249536e+06</td>\n",
       "      <td>0.079710</td>\n",
       "      <td>61.398106</td>\n",
       "      <td>3.320853</td>\n",
       "      <td>179.898509</td>\n",
       "      <td>7.598430</td>\n",
       "    </tr>\n",
       "    <tr>\n",
       "      <th>std</th>\n",
       "      <td>6.231191</td>\n",
       "      <td>NaN</td>\n",
       "      <td>6.474630e+05</td>\n",
       "      <td>0.271831</td>\n",
       "      <td>18.378901</td>\n",
       "      <td>0.478149</td>\n",
       "      <td>40.274956</td>\n",
       "      <td>1.577173</td>\n",
       "    </tr>\n",
       "    <tr>\n",
       "      <th>min</th>\n",
       "      <td>1.000000</td>\n",
       "      <td>NaN</td>\n",
       "      <td>2.689290e+05</td>\n",
       "      <td>0.000000</td>\n",
       "      <td>18.790000</td>\n",
       "      <td>2.514000</td>\n",
       "      <td>126.111903</td>\n",
       "      <td>5.143000</td>\n",
       "    </tr>\n",
       "    <tr>\n",
       "      <th>25%</th>\n",
       "      <td>4.000000</td>\n",
       "      <td>NaN</td>\n",
       "      <td>6.050757e+05</td>\n",
       "      <td>0.000000</td>\n",
       "      <td>45.587500</td>\n",
       "      <td>2.852250</td>\n",
       "      <td>131.970831</td>\n",
       "      <td>6.597500</td>\n",
       "    </tr>\n",
       "    <tr>\n",
       "      <th>50%</th>\n",
       "      <td>9.000000</td>\n",
       "      <td>NaN</td>\n",
       "      <td>1.261424e+06</td>\n",
       "      <td>0.000000</td>\n",
       "      <td>62.985000</td>\n",
       "      <td>3.451000</td>\n",
       "      <td>197.908893</td>\n",
       "      <td>7.470000</td>\n",
       "    </tr>\n",
       "    <tr>\n",
       "      <th>75%</th>\n",
       "      <td>15.750000</td>\n",
       "      <td>NaN</td>\n",
       "      <td>1.806386e+06</td>\n",
       "      <td>0.000000</td>\n",
       "      <td>76.345000</td>\n",
       "      <td>3.706250</td>\n",
       "      <td>214.934616</td>\n",
       "      <td>8.150000</td>\n",
       "    </tr>\n",
       "    <tr>\n",
       "      <th>max</th>\n",
       "      <td>20.000000</td>\n",
       "      <td>NaN</td>\n",
       "      <td>2.771397e+06</td>\n",
       "      <td>1.000000</td>\n",
       "      <td>91.650000</td>\n",
       "      <td>4.193000</td>\n",
       "      <td>226.968844</td>\n",
       "      <td>14.313000</td>\n",
       "    </tr>\n",
       "  </tbody>\n",
       "</table>\n",
       "</div>"
      ],
      "text/plain": [
       "             Store        Date  Weekly_Sales  Holiday_Flag  Temperature  \\\n",
       "count   150.000000         132  1.360000e+02    138.000000   132.000000   \n",
       "unique         NaN          85           NaN           NaN          NaN   \n",
       "top            NaN  19-10-2012           NaN           NaN          NaN   \n",
       "freq           NaN           4           NaN           NaN          NaN   \n",
       "mean      9.866667         NaN  1.249536e+06      0.079710    61.398106   \n",
       "std       6.231191         NaN  6.474630e+05      0.271831    18.378901   \n",
       "min       1.000000         NaN  2.689290e+05      0.000000    18.790000   \n",
       "25%       4.000000         NaN  6.050757e+05      0.000000    45.587500   \n",
       "50%       9.000000         NaN  1.261424e+06      0.000000    62.985000   \n",
       "75%      15.750000         NaN  1.806386e+06      0.000000    76.345000   \n",
       "max      20.000000         NaN  2.771397e+06      1.000000    91.650000   \n",
       "\n",
       "        Fuel_Price         CPI  Unemployment  \n",
       "count   136.000000  138.000000    135.000000  \n",
       "unique         NaN         NaN           NaN  \n",
       "top            NaN         NaN           NaN  \n",
       "freq           NaN         NaN           NaN  \n",
       "mean      3.320853  179.898509      7.598430  \n",
       "std       0.478149   40.274956      1.577173  \n",
       "min       2.514000  126.111903      5.143000  \n",
       "25%       2.852250  131.970831      6.597500  \n",
       "50%       3.451000  197.908893      7.470000  \n",
       "75%       3.706250  214.934616      8.150000  \n",
       "max       4.193000  226.968844     14.313000  "
      ]
     },
     "metadata": {},
     "output_type": "display_data"
    },
    {
     "name": "stdout",
     "output_type": "stream",
     "text": [
      "\n",
      "Percentage of missing values: \n"
     ]
    },
    {
     "data": {
      "text/plain": [
       "Store            0.000000\n",
       "Date            12.000000\n",
       "Weekly_Sales     9.333333\n",
       "Holiday_Flag     8.000000\n",
       "Temperature     12.000000\n",
       "Fuel_Price       9.333333\n",
       "CPI              8.000000\n",
       "Unemployment    10.000000\n",
       "dtype: float64"
      ]
     },
     "metadata": {},
     "output_type": "display_data"
    }
   ],
   "source": [
    "# Basic stats\n",
    "print(\"Number of rows : {}\".format(df.shape[0]))\n",
    "print()\n",
    "\n",
    "print(\"Display of dataset: \")\n",
    "display(df.head())\n",
    "print()\n",
    "\n",
    "print(\"Basics statistics: \")\n",
    "data_desc = df.describe(include='all')\n",
    "display(data_desc)\n",
    "print()\n",
    "\n",
    "print(\"Percentage of missing values: \")\n",
    "display(100*df.isnull().sum()/df.shape[0])"
   ]
  },
  {
   "cell_type": "code",
   "execution_count": 18,
   "metadata": {},
   "outputs": [
    {
     "data": {
      "text/plain": [
       "Index(['Store', 'Date', 'Weekly_Sales', 'Holiday_Flag', 'Temperature',\n",
       "       'Fuel_Price', 'CPI', 'Unemployment'],\n",
       "      dtype='object')"
      ]
     },
     "execution_count": 18,
     "metadata": {},
     "output_type": "execute_result"
    }
   ],
   "source": [
    "df.columns"
   ]
  },
  {
   "cell_type": "code",
   "execution_count": 19,
   "metadata": {},
   "outputs": [
    {
     "name": "stderr",
     "output_type": "stream",
     "text": [
      "/tmp/ipykernel_324/2410702218.py:2: UserWarning:\n",
      "\n",
      "Parsing '18-02-2011' in DD/MM/YYYY format. Provide format or specify infer_datetime_format=True for consistent parsing.\n",
      "\n",
      "/tmp/ipykernel_324/2410702218.py:2: UserWarning:\n",
      "\n",
      "Parsing '25-03-2011' in DD/MM/YYYY format. Provide format or specify infer_datetime_format=True for consistent parsing.\n",
      "\n",
      "/tmp/ipykernel_324/2410702218.py:2: UserWarning:\n",
      "\n",
      "Parsing '27-07-2012' in DD/MM/YYYY format. Provide format or specify infer_datetime_format=True for consistent parsing.\n",
      "\n",
      "/tmp/ipykernel_324/2410702218.py:2: UserWarning:\n",
      "\n",
      "Parsing '28-05-2010' in DD/MM/YYYY format. Provide format or specify infer_datetime_format=True for consistent parsing.\n",
      "\n",
      "/tmp/ipykernel_324/2410702218.py:2: UserWarning:\n",
      "\n",
      "Parsing '19-08-2011' in DD/MM/YYYY format. Provide format or specify infer_datetime_format=True for consistent parsing.\n",
      "\n",
      "/tmp/ipykernel_324/2410702218.py:2: UserWarning:\n",
      "\n",
      "Parsing '15-10-2010' in DD/MM/YYYY format. Provide format or specify infer_datetime_format=True for consistent parsing.\n",
      "\n",
      "/tmp/ipykernel_324/2410702218.py:2: UserWarning:\n",
      "\n",
      "Parsing '13-05-2011' in DD/MM/YYYY format. Provide format or specify infer_datetime_format=True for consistent parsing.\n",
      "\n",
      "/tmp/ipykernel_324/2410702218.py:2: UserWarning:\n",
      "\n",
      "Parsing '16-03-2012' in DD/MM/YYYY format. Provide format or specify infer_datetime_format=True for consistent parsing.\n",
      "\n",
      "/tmp/ipykernel_324/2410702218.py:2: UserWarning:\n",
      "\n",
      "Parsing '30-04-2010' in DD/MM/YYYY format. Provide format or specify infer_datetime_format=True for consistent parsing.\n",
      "\n",
      "/tmp/ipykernel_324/2410702218.py:2: UserWarning:\n",
      "\n",
      "Parsing '20-08-2010' in DD/MM/YYYY format. Provide format or specify infer_datetime_format=True for consistent parsing.\n",
      "\n",
      "/tmp/ipykernel_324/2410702218.py:2: UserWarning:\n",
      "\n",
      "Parsing '16-12-2011' in DD/MM/YYYY format. Provide format or specify infer_datetime_format=True for consistent parsing.\n",
      "\n",
      "/tmp/ipykernel_324/2410702218.py:2: UserWarning:\n",
      "\n",
      "Parsing '18-05-2012' in DD/MM/YYYY format. Provide format or specify infer_datetime_format=True for consistent parsing.\n",
      "\n",
      "/tmp/ipykernel_324/2410702218.py:2: UserWarning:\n",
      "\n",
      "Parsing '26-03-2010' in DD/MM/YYYY format. Provide format or specify infer_datetime_format=True for consistent parsing.\n",
      "\n",
      "/tmp/ipykernel_324/2410702218.py:2: UserWarning:\n",
      "\n",
      "Parsing '13-01-2012' in DD/MM/YYYY format. Provide format or specify infer_datetime_format=True for consistent parsing.\n",
      "\n",
      "/tmp/ipykernel_324/2410702218.py:2: UserWarning:\n",
      "\n",
      "Parsing '20-05-2011' in DD/MM/YYYY format. Provide format or specify infer_datetime_format=True for consistent parsing.\n",
      "\n",
      "/tmp/ipykernel_324/2410702218.py:2: UserWarning:\n",
      "\n",
      "Parsing '16-04-2010' in DD/MM/YYYY format. Provide format or specify infer_datetime_format=True for consistent parsing.\n",
      "\n",
      "/tmp/ipykernel_324/2410702218.py:2: UserWarning:\n",
      "\n",
      "Parsing '26-08-2011' in DD/MM/YYYY format. Provide format or specify infer_datetime_format=True for consistent parsing.\n",
      "\n",
      "/tmp/ipykernel_324/2410702218.py:2: UserWarning:\n",
      "\n",
      "Parsing '30-12-2011' in DD/MM/YYYY format. Provide format or specify infer_datetime_format=True for consistent parsing.\n",
      "\n",
      "/tmp/ipykernel_324/2410702218.py:2: UserWarning:\n",
      "\n",
      "Parsing '23-09-2011' in DD/MM/YYYY format. Provide format or specify infer_datetime_format=True for consistent parsing.\n",
      "\n",
      "/tmp/ipykernel_324/2410702218.py:2: UserWarning:\n",
      "\n",
      "Parsing '15-04-2011' in DD/MM/YYYY format. Provide format or specify infer_datetime_format=True for consistent parsing.\n",
      "\n",
      "/tmp/ipykernel_324/2410702218.py:2: UserWarning:\n",
      "\n",
      "Parsing '24-06-2011' in DD/MM/YYYY format. Provide format or specify infer_datetime_format=True for consistent parsing.\n",
      "\n",
      "/tmp/ipykernel_324/2410702218.py:2: UserWarning:\n",
      "\n",
      "Parsing '27-04-2012' in DD/MM/YYYY format. Provide format or specify infer_datetime_format=True for consistent parsing.\n",
      "\n",
      "/tmp/ipykernel_324/2410702218.py:2: UserWarning:\n",
      "\n",
      "Parsing '14-09-2012' in DD/MM/YYYY format. Provide format or specify infer_datetime_format=True for consistent parsing.\n",
      "\n",
      "/tmp/ipykernel_324/2410702218.py:2: UserWarning:\n",
      "\n",
      "Parsing '24-02-2012' in DD/MM/YYYY format. Provide format or specify infer_datetime_format=True for consistent parsing.\n",
      "\n",
      "/tmp/ipykernel_324/2410702218.py:2: UserWarning:\n",
      "\n",
      "Parsing '30-07-2010' in DD/MM/YYYY format. Provide format or specify infer_datetime_format=True for consistent parsing.\n",
      "\n",
      "/tmp/ipykernel_324/2410702218.py:2: UserWarning:\n",
      "\n",
      "Parsing '30-03-2012' in DD/MM/YYYY format. Provide format or specify infer_datetime_format=True for consistent parsing.\n",
      "\n",
      "/tmp/ipykernel_324/2410702218.py:2: UserWarning:\n",
      "\n",
      "Parsing '25-06-2010' in DD/MM/YYYY format. Provide format or specify infer_datetime_format=True for consistent parsing.\n",
      "\n",
      "/tmp/ipykernel_324/2410702218.py:2: UserWarning:\n",
      "\n",
      "Parsing '27-08-2010' in DD/MM/YYYY format. Provide format or specify infer_datetime_format=True for consistent parsing.\n",
      "\n",
      "/tmp/ipykernel_324/2410702218.py:2: UserWarning:\n",
      "\n",
      "Parsing '17-02-2012' in DD/MM/YYYY format. Provide format or specify infer_datetime_format=True for consistent parsing.\n",
      "\n",
      "/tmp/ipykernel_324/2410702218.py:2: UserWarning:\n",
      "\n",
      "Parsing '17-12-2010' in DD/MM/YYYY format. Provide format or specify infer_datetime_format=True for consistent parsing.\n",
      "\n",
      "/tmp/ipykernel_324/2410702218.py:2: UserWarning:\n",
      "\n",
      "Parsing '19-10-2012' in DD/MM/YYYY format. Provide format or specify infer_datetime_format=True for consistent parsing.\n",
      "\n",
      "/tmp/ipykernel_324/2410702218.py:2: UserWarning:\n",
      "\n",
      "Parsing '29-07-2011' in DD/MM/YYYY format. Provide format or specify infer_datetime_format=True for consistent parsing.\n",
      "\n",
      "/tmp/ipykernel_324/2410702218.py:2: UserWarning:\n",
      "\n",
      "Parsing '18-11-2011' in DD/MM/YYYY format. Provide format or specify infer_datetime_format=True for consistent parsing.\n",
      "\n",
      "/tmp/ipykernel_324/2410702218.py:2: UserWarning:\n",
      "\n",
      "Parsing '24-09-2010' in DD/MM/YYYY format. Provide format or specify infer_datetime_format=True for consistent parsing.\n",
      "\n",
      "/tmp/ipykernel_324/2410702218.py:2: UserWarning:\n",
      "\n",
      "Parsing '19-11-2010' in DD/MM/YYYY format. Provide format or specify infer_datetime_format=True for consistent parsing.\n",
      "\n",
      "/tmp/ipykernel_324/2410702218.py:2: UserWarning:\n",
      "\n",
      "Parsing '27-05-2011' in DD/MM/YYYY format. Provide format or specify infer_datetime_format=True for consistent parsing.\n",
      "\n",
      "/tmp/ipykernel_324/2410702218.py:2: UserWarning:\n",
      "\n",
      "Parsing '15-07-2011' in DD/MM/YYYY format. Provide format or specify infer_datetime_format=True for consistent parsing.\n",
      "\n",
      "/tmp/ipykernel_324/2410702218.py:2: UserWarning:\n",
      "\n",
      "Parsing '14-05-2010' in DD/MM/YYYY format. Provide format or specify infer_datetime_format=True for consistent parsing.\n",
      "\n",
      "/tmp/ipykernel_324/2410702218.py:2: UserWarning:\n",
      "\n",
      "Parsing '18-06-2010' in DD/MM/YYYY format. Provide format or specify infer_datetime_format=True for consistent parsing.\n",
      "\n",
      "/tmp/ipykernel_324/2410702218.py:2: UserWarning:\n",
      "\n",
      "Parsing '22-06-2012' in DD/MM/YYYY format. Provide format or specify infer_datetime_format=True for consistent parsing.\n",
      "\n",
      "/tmp/ipykernel_324/2410702218.py:2: UserWarning:\n",
      "\n",
      "Parsing '26-02-2010' in DD/MM/YYYY format. Provide format or specify infer_datetime_format=True for consistent parsing.\n",
      "\n",
      "/tmp/ipykernel_324/2410702218.py:2: UserWarning:\n",
      "\n",
      "Parsing '31-12-2010' in DD/MM/YYYY format. Provide format or specify infer_datetime_format=True for consistent parsing.\n",
      "\n",
      "/tmp/ipykernel_324/2410702218.py:2: UserWarning:\n",
      "\n",
      "Parsing '19-02-2010' in DD/MM/YYYY format. Provide format or specify infer_datetime_format=True for consistent parsing.\n",
      "\n",
      "/tmp/ipykernel_324/2410702218.py:2: UserWarning:\n",
      "\n",
      "Parsing '20-01-2012' in DD/MM/YYYY format. Provide format or specify infer_datetime_format=True for consistent parsing.\n",
      "\n",
      "/tmp/ipykernel_324/2410702218.py:2: UserWarning:\n",
      "\n",
      "Parsing '26-11-2010' in DD/MM/YYYY format. Provide format or specify infer_datetime_format=True for consistent parsing.\n",
      "\n",
      "/tmp/ipykernel_324/2410702218.py:2: UserWarning:\n",
      "\n",
      "Parsing '20-04-2012' in DD/MM/YYYY format. Provide format or specify infer_datetime_format=True for consistent parsing.\n",
      "\n",
      "/tmp/ipykernel_324/2410702218.py:2: UserWarning:\n",
      "\n",
      "Parsing '13-04-2012' in DD/MM/YYYY format. Provide format or specify infer_datetime_format=True for consistent parsing.\n",
      "\n",
      "/tmp/ipykernel_324/2410702218.py:2: UserWarning:\n",
      "\n",
      "Parsing '17-09-2010' in DD/MM/YYYY format. Provide format or specify infer_datetime_format=True for consistent parsing.\n",
      "\n",
      "/tmp/ipykernel_324/2410702218.py:2: UserWarning:\n",
      "\n",
      "Parsing '22-07-2011' in DD/MM/YYYY format. Provide format or specify infer_datetime_format=True for consistent parsing.\n",
      "\n",
      "/tmp/ipykernel_324/2410702218.py:2: UserWarning:\n",
      "\n",
      "Parsing '22-04-2011' in DD/MM/YYYY format. Provide format or specify infer_datetime_format=True for consistent parsing.\n",
      "\n",
      "/tmp/ipykernel_324/2410702218.py:2: UserWarning:\n",
      "\n",
      "Parsing '25-05-2012' in DD/MM/YYYY format. Provide format or specify infer_datetime_format=True for consistent parsing.\n",
      "\n"
     ]
    },
    {
     "data": {
      "text/html": [
       "<div>\n",
       "<style scoped>\n",
       "    .dataframe tbody tr th:only-of-type {\n",
       "        vertical-align: middle;\n",
       "    }\n",
       "\n",
       "    .dataframe tbody tr th {\n",
       "        vertical-align: top;\n",
       "    }\n",
       "\n",
       "    .dataframe thead th {\n",
       "        text-align: right;\n",
       "    }\n",
       "</style>\n",
       "<table border=\"1\" class=\"dataframe\">\n",
       "  <thead>\n",
       "    <tr style=\"text-align: right;\">\n",
       "      <th></th>\n",
       "      <th>Store</th>\n",
       "      <th>Date</th>\n",
       "      <th>Weekly_Sales</th>\n",
       "      <th>Holiday_Flag</th>\n",
       "      <th>Temperature</th>\n",
       "      <th>Fuel_Price</th>\n",
       "      <th>CPI</th>\n",
       "      <th>Unemployment</th>\n",
       "    </tr>\n",
       "  </thead>\n",
       "  <tbody>\n",
       "    <tr>\n",
       "      <th>14</th>\n",
       "      <td>17.0</td>\n",
       "      <td>2010-01-10</td>\n",
       "      <td>829207.27</td>\n",
       "      <td>0.0</td>\n",
       "      <td>60.07</td>\n",
       "      <td>2.853</td>\n",
       "      <td>126.234600</td>\n",
       "      <td>6.885</td>\n",
       "    </tr>\n",
       "    <tr>\n",
       "      <th>20</th>\n",
       "      <td>7.0</td>\n",
       "      <td>2010-02-04</td>\n",
       "      <td>561145.14</td>\n",
       "      <td>0.0</td>\n",
       "      <td>38.26</td>\n",
       "      <td>2.725</td>\n",
       "      <td>189.704822</td>\n",
       "      <td>8.963</td>\n",
       "    </tr>\n",
       "    <tr>\n",
       "      <th>99</th>\n",
       "      <td>13.0</td>\n",
       "      <td>2010-02-07</td>\n",
       "      <td>2018314.71</td>\n",
       "      <td>0.0</td>\n",
       "      <td>78.82</td>\n",
       "      <td>2.814</td>\n",
       "      <td>126.139200</td>\n",
       "      <td>7.951</td>\n",
       "    </tr>\n",
       "    <tr>\n",
       "      <th>47</th>\n",
       "      <td>19.0</td>\n",
       "      <td>2010-02-07</td>\n",
       "      <td>1549018.68</td>\n",
       "      <td>0.0</td>\n",
       "      <td>66.25</td>\n",
       "      <td>2.958</td>\n",
       "      <td>132.521867</td>\n",
       "      <td>8.099</td>\n",
       "    </tr>\n",
       "    <tr>\n",
       "      <th>115</th>\n",
       "      <td>15.0</td>\n",
       "      <td>2010-02-19</td>\n",
       "      <td>660838.75</td>\n",
       "      <td>0.0</td>\n",
       "      <td>NaN</td>\n",
       "      <td>2.909</td>\n",
       "      <td>131.637000</td>\n",
       "      <td>NaN</td>\n",
       "    </tr>\n",
       "  </tbody>\n",
       "</table>\n",
       "</div>"
      ],
      "text/plain": [
       "     Store       Date  Weekly_Sales  Holiday_Flag  Temperature  Fuel_Price  \\\n",
       "14    17.0 2010-01-10     829207.27           0.0        60.07       2.853   \n",
       "20     7.0 2010-02-04     561145.14           0.0        38.26       2.725   \n",
       "99    13.0 2010-02-07    2018314.71           0.0        78.82       2.814   \n",
       "47    19.0 2010-02-07    1549018.68           0.0        66.25       2.958   \n",
       "115   15.0 2010-02-19     660838.75           0.0          NaN       2.909   \n",
       "\n",
       "            CPI  Unemployment  \n",
       "14   126.234600         6.885  \n",
       "20   189.704822         8.963  \n",
       "99   126.139200         7.951  \n",
       "47   132.521867         8.099  \n",
       "115  131.637000           NaN  "
      ]
     },
     "execution_count": 19,
     "metadata": {},
     "output_type": "execute_result"
    }
   ],
   "source": [
    "# convert all observations of Date to datetime\n",
    "df.loc[:,'Date'] = pd.to_datetime(df['Date'])\n",
    "\n",
    "# sort values by date\n",
    "df = df.sort_values(by = 'Date')\n",
    "df.head()"
   ]
  },
  {
   "cell_type": "code",
   "execution_count": 20,
   "metadata": {},
   "outputs": [
    {
     "data": {
      "text/html": [
       "<div>\n",
       "<style scoped>\n",
       "    .dataframe tbody tr th:only-of-type {\n",
       "        vertical-align: middle;\n",
       "    }\n",
       "\n",
       "    .dataframe tbody tr th {\n",
       "        vertical-align: top;\n",
       "    }\n",
       "\n",
       "    .dataframe thead th {\n",
       "        text-align: right;\n",
       "    }\n",
       "</style>\n",
       "<table border=\"1\" class=\"dataframe\">\n",
       "  <thead>\n",
       "    <tr style=\"text-align: right;\">\n",
       "      <th></th>\n",
       "      <th>Store</th>\n",
       "      <th>Date</th>\n",
       "      <th>Weekly_Sales</th>\n",
       "      <th>Holiday_Flag</th>\n",
       "      <th>Temperature</th>\n",
       "      <th>Fuel_Price</th>\n",
       "      <th>CPI</th>\n",
       "      <th>Unemployment</th>\n",
       "      <th>Year</th>\n",
       "      <th>Month</th>\n",
       "      <th>Day</th>\n",
       "      <th>Day_of_week</th>\n",
       "    </tr>\n",
       "  </thead>\n",
       "  <tbody>\n",
       "    <tr>\n",
       "      <th>14</th>\n",
       "      <td>17.0</td>\n",
       "      <td>2010-01-10</td>\n",
       "      <td>829207.27</td>\n",
       "      <td>0.0</td>\n",
       "      <td>60.07</td>\n",
       "      <td>2.853</td>\n",
       "      <td>126.234600</td>\n",
       "      <td>6.885</td>\n",
       "      <td>2010.0</td>\n",
       "      <td>1.0</td>\n",
       "      <td>10.0</td>\n",
       "      <td>6.0</td>\n",
       "    </tr>\n",
       "    <tr>\n",
       "      <th>20</th>\n",
       "      <td>7.0</td>\n",
       "      <td>2010-02-04</td>\n",
       "      <td>561145.14</td>\n",
       "      <td>0.0</td>\n",
       "      <td>38.26</td>\n",
       "      <td>2.725</td>\n",
       "      <td>189.704822</td>\n",
       "      <td>8.963</td>\n",
       "      <td>2010.0</td>\n",
       "      <td>2.0</td>\n",
       "      <td>4.0</td>\n",
       "      <td>3.0</td>\n",
       "    </tr>\n",
       "    <tr>\n",
       "      <th>99</th>\n",
       "      <td>13.0</td>\n",
       "      <td>2010-02-07</td>\n",
       "      <td>2018314.71</td>\n",
       "      <td>0.0</td>\n",
       "      <td>78.82</td>\n",
       "      <td>2.814</td>\n",
       "      <td>126.139200</td>\n",
       "      <td>7.951</td>\n",
       "      <td>2010.0</td>\n",
       "      <td>2.0</td>\n",
       "      <td>7.0</td>\n",
       "      <td>6.0</td>\n",
       "    </tr>\n",
       "    <tr>\n",
       "      <th>47</th>\n",
       "      <td>19.0</td>\n",
       "      <td>2010-02-07</td>\n",
       "      <td>1549018.68</td>\n",
       "      <td>0.0</td>\n",
       "      <td>66.25</td>\n",
       "      <td>2.958</td>\n",
       "      <td>132.521867</td>\n",
       "      <td>8.099</td>\n",
       "      <td>2010.0</td>\n",
       "      <td>2.0</td>\n",
       "      <td>7.0</td>\n",
       "      <td>6.0</td>\n",
       "    </tr>\n",
       "    <tr>\n",
       "      <th>115</th>\n",
       "      <td>15.0</td>\n",
       "      <td>2010-02-19</td>\n",
       "      <td>660838.75</td>\n",
       "      <td>0.0</td>\n",
       "      <td>NaN</td>\n",
       "      <td>2.909</td>\n",
       "      <td>131.637000</td>\n",
       "      <td>NaN</td>\n",
       "      <td>2010.0</td>\n",
       "      <td>2.0</td>\n",
       "      <td>19.0</td>\n",
       "      <td>4.0</td>\n",
       "    </tr>\n",
       "  </tbody>\n",
       "</table>\n",
       "</div>"
      ],
      "text/plain": [
       "     Store       Date  Weekly_Sales  Holiday_Flag  Temperature  Fuel_Price  \\\n",
       "14    17.0 2010-01-10     829207.27           0.0        60.07       2.853   \n",
       "20     7.0 2010-02-04     561145.14           0.0        38.26       2.725   \n",
       "99    13.0 2010-02-07    2018314.71           0.0        78.82       2.814   \n",
       "47    19.0 2010-02-07    1549018.68           0.0        66.25       2.958   \n",
       "115   15.0 2010-02-19     660838.75           0.0          NaN       2.909   \n",
       "\n",
       "            CPI  Unemployment    Year  Month   Day  Day_of_week  \n",
       "14   126.234600         6.885  2010.0    1.0  10.0          6.0  \n",
       "20   189.704822         8.963  2010.0    2.0   4.0          3.0  \n",
       "99   126.139200         7.951  2010.0    2.0   7.0          6.0  \n",
       "47   132.521867         8.099  2010.0    2.0   7.0          6.0  \n",
       "115  131.637000           NaN  2010.0    2.0  19.0          4.0  "
      ]
     },
     "execution_count": 20,
     "metadata": {},
     "output_type": "execute_result"
    }
   ],
   "source": [
    "###Create new columns in the dataset:Month Year day day of week\n",
    "\n",
    "df.loc[:, 'Year'] = df['Date'].dt.year\n",
    "df.loc[:, 'Month'] = df['Date'].dt.month\n",
    "df.loc[:, 'Day'] = df['Date'].dt.day\n",
    "df.loc[:, 'Day_of_week'] = df['Date'].dt.day_of_week\n",
    "df.head()"
   ]
  },
  {
   "cell_type": "code",
   "execution_count": null,
   "metadata": {},
   "outputs": [],
   "source": []
  },
  {
   "cell_type": "markdown",
   "metadata": {},
   "source": [
    "##2 EDA"
   ]
  },
  {
   "cell_type": "markdown",
   "metadata": {},
   "source": [
    "2.1 les observations"
   ]
  },
  {
   "cell_type": "code",
   "execution_count": 21,
   "metadata": {},
   "outputs": [
    {
     "data": {
      "text/plain": [
       "array([2010., 2011., 2012.,   nan])"
      ]
     },
     "execution_count": 21,
     "metadata": {},
     "output_type": "execute_result"
    }
   ],
   "source": [
    "# put all year in an array\n",
    "all_year = df.Year.unique()\n",
    "all_year\n",
    "\n"
   ]
  },
  {
   "cell_type": "code",
   "execution_count": 22,
   "metadata": {},
   "outputs": [],
   "source": [
    "# extract last 3 year in the dataset\n"
   ]
  },
  {
   "cell_type": "code",
   "execution_count": 23,
   "metadata": {},
   "outputs": [
    {
     "data": {
      "text/html": [
       "<iframe\n",
       "    scrolling=\"no\"\n",
       "    width=\"100%\"\n",
       "    height=\"545px\"\n",
       "    src=\"iframe_figures/figure_23.html\"\n",
       "    frameborder=\"0\"\n",
       "    allowfullscreen\n",
       "></iframe>\n"
      ]
     },
     "metadata": {},
     "output_type": "display_data"
    }
   ],
   "source": [
    "# extract last 3 year in the dataset\n",
    "last_years = all_year[:]\n",
    "\n",
    "fig = go.Figure()\n",
    "\n",
    "for i in range(len(last_years)):\n",
    "    if i == 0:\n",
    "        fig.add_trace(\n",
    "            go.Histogram(\n",
    "                x = df.loc[df['Year']==last_years[i], 'Date'],\n",
    "                nbinsx = df.loc[df['Year']==last_years[i], 'Date'].nunique(),\n",
    "                visible=True))\n",
    "    else:\n",
    "        fig.add_trace(\n",
    "            go.Histogram(\n",
    "                x = df.loc[df['Year']==last_years[i], 'Date'],\n",
    "                nbinsx = df.loc[df['Year']==last_years[i], 'Date'].nunique(),\n",
    "                visible=False))\n",
    "\n",
    "\n",
    "fig.update_layout(\n",
    "        title = go.layout.Title(text = \"Daily observations for one year\", x = 0.5),\n",
    "        showlegend = False)\n",
    "\n",
    "# update for each year\n",
    "fig.update_layout(\n",
    "    updatemenus = [go.layout.Updatemenu(\n",
    "        active = 0,\n",
    "        buttons = [ \n",
    "                    go.layout.updatemenu.Button(\n",
    "                        label = \"2010\",\n",
    "                        method = \"update\",\n",
    "                        args = [{\"visible\" : [True, False, False, False, False]}]),\n",
    "                    go.layout.updatemenu.Button(\n",
    "                            label = \"2011\",\n",
    "                            method = \"update\",\n",
    "                            args = [{\"visible\" : [False, True, False, False, False]}]),\n",
    "                    go.layout.updatemenu.Button(\n",
    "                            label = \"2012\",\n",
    "                            method = \"update\",\n",
    "                            args = [{\"visible\" : [False, False, True, False, False]}]),\n",
    "                  \n",
    "                ]\n",
    "    )]\n",
    ")"
   ]
  },
  {
   "cell_type": "code",
   "execution_count": 24,
   "metadata": {},
   "outputs": [
    {
     "data": {
      "image/png": "[encoded data removed]",
      "text/plain": [
       "<Figure size 432x288 with 1 Axes>"
      ]
     },
     "metadata": {
      "needs_background": "light"
     },
     "output_type": "display_data"
    }
   ],
   "source": [
    "ax = sns.swarmplot(x= \"Day_of_week\", y= \"Weekly_Sales\",  data=df)\n",
    "ax.set(xlabel='', ylabel='Vente hebdomadaire', title='Ventes par jour de la semaine')\n",
    "ax.set_xticklabels(['Lundi', 'Mardi', 'Jeudi','Vendredi', 'Samedi', 'Dimanche']);"
   ]
  },
  {
   "cell_type": "markdown",
   "metadata": {},
   "source": [
    "2.2 Les ventes hebdomadaires"
   ]
  },
  {
   "cell_type": "code",
   "execution_count": 35,
   "metadata": {},
   "outputs": [
    {
     "data": {
      "text/plain": [
       "<bound method NDFrame.head of     Store  Weekly_Sales\n",
       "0     1.0  1.562508e+06\n",
       "1     2.0  1.943034e+06\n",
       "2     3.0  4.030549e+05\n",
       "3     4.0  2.173759e+06\n",
       "4     5.0  3.024997e+05\n",
       "5     6.0  1.551124e+06\n",
       "6     7.0  5.591300e+05\n",
       "7     8.0  8.887541e+05\n",
       "8     9.0  5.068874e+05\n",
       "9    10.0  1.822106e+06\n",
       "10   11.0  1.523747e+06\n",
       "11   12.0  1.028025e+06\n",
       "12   13.0  1.997235e+06\n",
       "13   14.0  2.092878e+06\n",
       "14   15.0  6.335804e+05\n",
       "15   16.0  5.153178e+05\n",
       "16   17.0  8.916060e+05\n",
       "17   18.0  1.140437e+06\n",
       "18   19.0  1.400615e+06\n",
       "19   20.0  1.962384e+06>"
      ]
     },
     "execution_count": 35,
     "metadata": {},
     "output_type": "execute_result"
    }
   ],
   "source": [
    "# Visualize average Weekly per store vs store\n",
    "mean_Weekly_Sales_per_Store = df.groupby('Store')['Weekly_Sales'].mean().reset_index()\n",
    "mean_Weekly_Sales_per_Store.head"
   ]
  },
  {
   "cell_type": "code",
   "execution_count": 36,
   "metadata": {},
   "outputs": [
    {
     "data": {
      "text/html": [
       "<iframe\n",
       "    scrolling=\"no\"\n",
       "    width=\"100%\"\n",
       "    height=\"545px\"\n",
       "    src=\"iframe_figures/figure_36.html\"\n",
       "    frameborder=\"0\"\n",
       "    allowfullscreen\n",
       "></iframe>\n"
      ]
     },
     "metadata": {},
     "output_type": "display_data"
    }
   ],
   "source": [
    "fig = px.bar(mean_Weekly_Sales_per_Store, x='Store', y='Weekly_Sales')\n",
    "fig.update_layout(xaxis={\"dtick\":1})"
   ]
  },
  {
   "cell_type": "markdown",
   "metadata": {},
   "source": [
    "2.3 EDA sur les températures"
   ]
  },
  {
   "cell_type": "code",
   "execution_count": 37,
   "metadata": {},
   "outputs": [
    {
     "data": {
      "text/plain": [
       "<bound method NDFrame.head of     Store  Temperature\n",
       "0     1.0    67.776667\n",
       "1     2.0    57.462500\n",
       "2     3.0    70.322143\n",
       "3     4.0    65.624000\n",
       "4     5.0    72.720000\n",
       "5     6.0    70.266000\n",
       "6     7.0    39.967500\n",
       "7     8.0    70.488750\n",
       "8     9.0    74.120000\n",
       "9    10.0    73.336000\n",
       "10   11.0    69.080000\n",
       "11   12.0    73.960000\n",
       "12   13.0    57.798889\n",
       "13   14.0    45.806250\n",
       "14   15.0    65.730000\n",
       "15   16.0    51.343333\n",
       "16   17.0    55.232000\n",
       "17   18.0    54.215556\n",
       "18   19.0    53.756250\n",
       "19   20.0    54.280000>"
      ]
     },
     "execution_count": 37,
     "metadata": {},
     "output_type": "execute_result"
    }
   ],
   "source": [
    "mean_temperature_per_store = df.groupby('Store')['Temperature'].mean().reset_index()\n",
    "mean_temperature_per_store.head"
   ]
  },
  {
   "cell_type": "code",
   "execution_count": 40,
   "metadata": {},
   "outputs": [
    {
     "data": {
      "text/html": [
       "<iframe\n",
       "    scrolling=\"no\"\n",
       "    width=\"100%\"\n",
       "    height=\"545px\"\n",
       "    src=\"iframe_figures/figure_40.html\"\n",
       "    frameborder=\"0\"\n",
       "    allowfullscreen\n",
       "></iframe>\n"
      ]
     },
     "metadata": {},
     "output_type": "display_data"
    }
   ],
   "source": [
    "px.bar(mean_temperature_per_store, x='Store', y='Temperature',)\n"
   ]
  },
  {
   "cell_type": "code",
   "execution_count": 19,
   "metadata": {},
   "outputs": [
    {
     "name": "stderr",
     "output_type": "stream",
     "text": [
      "/opt/conda/lib/python3.9/site-packages/seaborn/_decorators.py:36: FutureWarning:\n",
      "\n",
      "Pass the following variable as a keyword arg: x. From version 0.12, the only valid positional argument will be `data`, and passing other arguments without an explicit keyword will result in an error or misinterpretation.\n",
      "\n"
     ]
    },
    {
     "data": {
      "text/plain": [
       "<AxesSubplot:xlabel='Temperature'>"
      ]
     },
     "execution_count": 19,
     "metadata": {},
     "output_type": "execute_result"
    },
    {
     "data": {
      "image/png": "[encoded data removed]",
      "text/plain": [
       "<Figure size 432x288 with 1 Axes>"
      ]
     },
     "metadata": {
      "needs_background": "light"
     },
     "output_type": "display_data"
    }
   ],
   "source": [
    "#to see outliers cleraly\n",
    "sns.boxplot(df['Temperature'])"
   ]
  },
  {
   "cell_type": "markdown",
   "metadata": {},
   "source": [
    "2.4 EDA sur le CPI"
   ]
  },
  {
   "cell_type": "code",
   "execution_count": 22,
   "metadata": {},
   "outputs": [
    {
     "data": {
      "text/plain": [
       "<seaborn.axisgrid.FacetGrid at 0x7fdfeb1d4d60>"
      ]
     },
     "execution_count": 22,
     "metadata": {},
     "output_type": "execute_result"
    },
    {
     "data": {
      "image/png": "[encoded data removed]",
      "text/plain": [
       "<Figure size 648x216 with 3 Axes>"
      ]
     },
     "metadata": {
      "needs_background": "light"
     },
     "output_type": "display_data"
    }
   ],
   "source": [
    "g = sns.FacetGrid(df, col='Year', sharex=False)\n",
    "g.map(sns.lineplot, 'Date', 'CPI')\n",
    "g.set_xticklabels(rotation=60)"
   ]
  },
  {
   "cell_type": "code",
   "execution_count": 134,
   "metadata": {},
   "outputs": [
    {
     "name": "stderr",
     "output_type": "stream",
     "text": [
      "/opt/conda/lib/python3.9/site-packages/seaborn/_decorators.py:36: FutureWarning:\n",
      "\n",
      "Pass the following variable as a keyword arg: x. From version 0.12, the only valid positional argument will be `data`, and passing other arguments without an explicit keyword will result in an error or misinterpretation.\n",
      "\n"
     ]
    },
    {
     "data": {
      "text/plain": [
       "<AxesSubplot:xlabel='CPI'>"
      ]
     },
     "execution_count": 134,
     "metadata": {},
     "output_type": "execute_result"
    },
    {
     "data": {
      "image/png": "[encoded data removed]",
      "text/plain": [
       "<Figure size 432x288 with 1 Axes>"
      ]
     },
     "metadata": {
      "needs_background": "light"
     },
     "output_type": "display_data"
    }
   ],
   "source": [
    "sns.boxplot(df['CPI'])"
   ]
  },
  {
   "cell_type": "code",
   "execution_count": 33,
   "metadata": {},
   "outputs": [
    {
     "data": {
      "text/plain": [
       "<bound method NDFrame.head of     Store         CPI\n",
       "0     1.0  216.368313\n",
       "1     2.0  214.769437\n",
       "2     3.0  220.115306\n",
       "3     4.0  128.196148\n",
       "4     5.0  216.905432\n",
       "5     6.0  215.902088\n",
       "6     7.0  195.319489\n",
       "7     8.0  216.373831\n",
       "8     9.0  215.001735\n",
       "9    10.0  128.162431\n",
       "10   11.0  217.844972\n",
       "11   12.0  128.060487\n",
       "12   13.0  129.041653\n",
       "13   14.0  185.325833\n",
       "14   15.0  134.987597\n",
       "15   16.0  194.473622\n",
       "16   17.0  128.331461\n",
       "17   18.0  134.888911\n",
       "18   19.0  135.319093\n",
       "19   20.0  209.187937>"
      ]
     },
     "execution_count": 33,
     "metadata": {},
     "output_type": "execute_result"
    }
   ],
   "source": [
    "# Visualize average \n",
    "mean_Store_per_CPI = df.groupby('Store')['CPI'].mean().reset_index()\n",
    "mean_Store_per_CPI.head"
   ]
  },
  {
   "cell_type": "code",
   "execution_count": 34,
   "metadata": {},
   "outputs": [
    {
     "data": {
      "text/html": [
       "<iframe\n",
       "    scrolling=\"no\"\n",
       "    width=\"100%\"\n",
       "    height=\"545px\"\n",
       "    src=\"iframe_figures/figure_34.html\"\n",
       "    frameborder=\"0\"\n",
       "    allowfullscreen\n",
       "></iframe>\n"
      ]
     },
     "metadata": {},
     "output_type": "display_data"
    }
   ],
   "source": [
    "fig=px.bar(mean_Store_per_CPI, x='Store', y='CPI',)\n",
    "fig.update_layout(xaxis={\"dtick\":1})"
   ]
  },
  {
   "cell_type": "markdown",
   "metadata": {},
   "source": [
    "2.5 le TAUX DE CHOMAGE"
   ]
  },
  {
   "cell_type": "code",
   "execution_count": 42,
   "metadata": {},
   "outputs": [
    {
     "data": {
      "text/plain": [
       "<bound method NDFrame.head of     Store  Unemployment\n",
       "0     1.0      7.712000\n",
       "1     2.0      7.612833\n",
       "2     3.0      7.058929\n",
       "3     4.0      6.272857\n",
       "4     5.0      6.280875\n",
       "5     6.0      6.732000\n",
       "6     7.0      8.355429\n",
       "7     8.0      6.341857\n",
       "8     9.0      6.462000\n",
       "9    10.0      8.436400\n",
       "10   11.0      7.247667\n",
       "11   12.0     13.893600\n",
       "12   13.0      7.010444\n",
       "13   14.0      8.633429\n",
       "14   15.0      7.802333\n",
       "15   16.0      6.357500\n",
       "16   17.0      6.192333\n",
       "17   18.0      8.905889\n",
       "18   19.0      8.064111\n",
       "19   20.0      7.496000>"
      ]
     },
     "execution_count": 42,
     "metadata": {},
     "output_type": "execute_result"
    }
   ],
   "source": [
    "# Visualize average \n",
    "mean__Unemployment_per_Store = df.groupby('Store')['Unemployment'].mean().reset_index()\n",
    "mean__Unemployment_per_Store.head"
   ]
  },
  {
   "cell_type": "code",
   "execution_count": 43,
   "metadata": {},
   "outputs": [
    {
     "data": {
      "text/html": [
       "<iframe\n",
       "    scrolling=\"no\"\n",
       "    width=\"100%\"\n",
       "    height=\"545px\"\n",
       "    src=\"iframe_figures/figure_43.html\"\n",
       "    frameborder=\"0\"\n",
       "    allowfullscreen\n",
       "></iframe>\n"
      ]
     },
     "metadata": {},
     "output_type": "display_data"
    }
   ],
   "source": [
    "fig=px.bar(mean__Unemployment_per_Store, x='Store', y='Unemployment',)\n",
    "fig.update_layout(xaxis={\"dtick\":1})"
   ]
  },
  {
   "cell_type": "markdown",
   "metadata": {},
   "source": [
    "2.5 Les corrélations des variables"
   ]
  },
  {
   "cell_type": "code",
   "execution_count": 31,
   "metadata": {},
   "outputs": [
    {
     "data": {
      "text/html": [
       "<div>\n",
       "<style scoped>\n",
       "    .dataframe tbody tr th:only-of-type {\n",
       "        vertical-align: middle;\n",
       "    }\n",
       "\n",
       "    .dataframe tbody tr th {\n",
       "        vertical-align: top;\n",
       "    }\n",
       "\n",
       "    .dataframe thead th {\n",
       "        text-align: right;\n",
       "    }\n",
       "</style>\n",
       "<table border=\"1\" class=\"dataframe\">\n",
       "  <thead>\n",
       "    <tr style=\"text-align: right;\">\n",
       "      <th></th>\n",
       "      <th>Weekly_Sales</th>\n",
       "      <th>Holiday_Flag</th>\n",
       "      <th>Temperature</th>\n",
       "      <th>Fuel_Price</th>\n",
       "      <th>CPI</th>\n",
       "      <th>Unemployment</th>\n",
       "      <th>Year</th>\n",
       "      <th>Month</th>\n",
       "      <th>Day</th>\n",
       "      <th>Day_of_week</th>\n",
       "    </tr>\n",
       "  </thead>\n",
       "  <tbody>\n",
       "    <tr>\n",
       "      <th>Weekly_Sales</th>\n",
       "      <td>1.000000</td>\n",
       "      <td>0.037037</td>\n",
       "      <td>-0.165991</td>\n",
       "      <td>-0.019087</td>\n",
       "      <td>-0.287227</td>\n",
       "      <td>0.055191</td>\n",
       "      <td>-0.037837</td>\n",
       "      <td>-0.049126</td>\n",
       "      <td>-0.015375</td>\n",
       "      <td>0.025520</td>\n",
       "    </tr>\n",
       "    <tr>\n",
       "      <th>Holiday_Flag</th>\n",
       "      <td>0.037037</td>\n",
       "      <td>1.000000</td>\n",
       "      <td>-0.187922</td>\n",
       "      <td>-0.117447</td>\n",
       "      <td>0.171969</td>\n",
       "      <td>0.096934</td>\n",
       "      <td>0.008307</td>\n",
       "      <td>0.303578</td>\n",
       "      <td>-0.127441</td>\n",
       "      <td>-0.285289</td>\n",
       "    </tr>\n",
       "    <tr>\n",
       "      <th>Temperature</th>\n",
       "      <td>-0.165991</td>\n",
       "      <td>-0.187922</td>\n",
       "      <td>1.000000</td>\n",
       "      <td>0.048943</td>\n",
       "      <td>0.137936</td>\n",
       "      <td>-0.030122</td>\n",
       "      <td>-0.137289</td>\n",
       "      <td>0.055604</td>\n",
       "      <td>0.180895</td>\n",
       "      <td>0.171128</td>\n",
       "    </tr>\n",
       "    <tr>\n",
       "      <th>Fuel_Price</th>\n",
       "      <td>-0.019087</td>\n",
       "      <td>-0.117447</td>\n",
       "      <td>0.048943</td>\n",
       "      <td>1.000000</td>\n",
       "      <td>-0.159881</td>\n",
       "      <td>0.086241</td>\n",
       "      <td>0.810191</td>\n",
       "      <td>-0.156432</td>\n",
       "      <td>0.002241</td>\n",
       "      <td>0.045693</td>\n",
       "    </tr>\n",
       "    <tr>\n",
       "      <th>CPI</th>\n",
       "      <td>-0.287227</td>\n",
       "      <td>0.171969</td>\n",
       "      <td>0.137936</td>\n",
       "      <td>-0.159881</td>\n",
       "      <td>1.000000</td>\n",
       "      <td>-0.348072</td>\n",
       "      <td>-0.006642</td>\n",
       "      <td>0.157679</td>\n",
       "      <td>0.105207</td>\n",
       "      <td>-0.087226</td>\n",
       "    </tr>\n",
       "    <tr>\n",
       "      <th>Unemployment</th>\n",
       "      <td>0.055191</td>\n",
       "      <td>0.096934</td>\n",
       "      <td>-0.030122</td>\n",
       "      <td>0.086241</td>\n",
       "      <td>-0.348072</td>\n",
       "      <td>1.000000</td>\n",
       "      <td>-0.182377</td>\n",
       "      <td>0.018774</td>\n",
       "      <td>-0.072157</td>\n",
       "      <td>0.076401</td>\n",
       "    </tr>\n",
       "    <tr>\n",
       "      <th>Year</th>\n",
       "      <td>-0.037837</td>\n",
       "      <td>0.008307</td>\n",
       "      <td>-0.137289</td>\n",
       "      <td>0.810191</td>\n",
       "      <td>-0.006642</td>\n",
       "      <td>-0.182377</td>\n",
       "      <td>1.000000</td>\n",
       "      <td>-0.150667</td>\n",
       "      <td>-0.127009</td>\n",
       "      <td>-0.138505</td>\n",
       "    </tr>\n",
       "    <tr>\n",
       "      <th>Month</th>\n",
       "      <td>-0.049126</td>\n",
       "      <td>0.303578</td>\n",
       "      <td>0.055604</td>\n",
       "      <td>-0.156432</td>\n",
       "      <td>0.157679</td>\n",
       "      <td>0.018774</td>\n",
       "      <td>-0.150667</td>\n",
       "      <td>1.000000</td>\n",
       "      <td>-0.142434</td>\n",
       "      <td>-0.261651</td>\n",
       "    </tr>\n",
       "    <tr>\n",
       "      <th>Day</th>\n",
       "      <td>-0.015375</td>\n",
       "      <td>-0.127441</td>\n",
       "      <td>0.180895</td>\n",
       "      <td>0.002241</td>\n",
       "      <td>0.105207</td>\n",
       "      <td>-0.072157</td>\n",
       "      <td>-0.127009</td>\n",
       "      <td>-0.142434</td>\n",
       "      <td>1.000000</td>\n",
       "      <td>0.191885</td>\n",
       "    </tr>\n",
       "    <tr>\n",
       "      <th>Day_of_week</th>\n",
       "      <td>0.025520</td>\n",
       "      <td>-0.285289</td>\n",
       "      <td>0.171128</td>\n",
       "      <td>0.045693</td>\n",
       "      <td>-0.087226</td>\n",
       "      <td>0.076401</td>\n",
       "      <td>-0.138505</td>\n",
       "      <td>-0.261651</td>\n",
       "      <td>0.191885</td>\n",
       "      <td>1.000000</td>\n",
       "    </tr>\n",
       "  </tbody>\n",
       "</table>\n",
       "</div>"
      ],
      "text/plain": [
       "              Weekly_Sales  Holiday_Flag  Temperature  Fuel_Price       CPI  \\\n",
       "Weekly_Sales      1.000000      0.037037    -0.165991   -0.019087 -0.287227   \n",
       "Holiday_Flag      0.037037      1.000000    -0.187922   -0.117447  0.171969   \n",
       "Temperature      -0.165991     -0.187922     1.000000    0.048943  0.137936   \n",
       "Fuel_Price       -0.019087     -0.117447     0.048943    1.000000 -0.159881   \n",
       "CPI              -0.287227      0.171969     0.137936   -0.159881  1.000000   \n",
       "Unemployment      0.055191      0.096934    -0.030122    0.086241 -0.348072   \n",
       "Year             -0.037837      0.008307    -0.137289    0.810191 -0.006642   \n",
       "Month            -0.049126      0.303578     0.055604   -0.156432  0.157679   \n",
       "Day              -0.015375     -0.127441     0.180895    0.002241  0.105207   \n",
       "Day_of_week       0.025520     -0.285289     0.171128    0.045693 -0.087226   \n",
       "\n",
       "              Unemployment      Year     Month       Day  Day_of_week  \n",
       "Weekly_Sales      0.055191 -0.037837 -0.049126 -0.015375     0.025520  \n",
       "Holiday_Flag      0.096934  0.008307  0.303578 -0.127441    -0.285289  \n",
       "Temperature      -0.030122 -0.137289  0.055604  0.180895     0.171128  \n",
       "Fuel_Price        0.086241  0.810191 -0.156432  0.002241     0.045693  \n",
       "CPI              -0.348072 -0.006642  0.157679  0.105207    -0.087226  \n",
       "Unemployment      1.000000 -0.182377  0.018774 -0.072157     0.076401  \n",
       "Year             -0.182377  1.000000 -0.150667 -0.127009    -0.138505  \n",
       "Month             0.018774 -0.150667  1.000000 -0.142434    -0.261651  \n",
       "Day              -0.072157 -0.127009 -0.142434  1.000000     0.191885  \n",
       "Day_of_week       0.076401 -0.138505 -0.261651  0.191885     1.000000  "
      ]
     },
     "execution_count": 31,
     "metadata": {},
     "output_type": "execute_result"
    }
   ],
   "source": [
    "correlation = df.iloc[:,1:].corr()\n",
    "correlation"
   ]
  },
  {
   "cell_type": "code",
   "execution_count": 30,
   "metadata": {},
   "outputs": [
    {
     "data": {
      "text/plain": [
       "Weekly_Sales    1.000000\n",
       "CPI             0.287227\n",
       "Temperature     0.165991\n",
       "Unemployment    0.055191\n",
       "Month           0.049126\n",
       "Year            0.037837\n",
       "Holiday_Flag    0.037037\n",
       "Day_of_week     0.025520\n",
       "Fuel_Price      0.019087\n",
       "Day             0.015375\n",
       "Name: Weekly_Sales, dtype: float64"
      ]
     },
     "execution_count": 30,
     "metadata": {},
     "output_type": "execute_result"
    }
   ],
   "source": [
    "abs(correlation['Weekly_Sales']).sort_values(ascending = False)"
   ]
  },
  {
   "cell_type": "markdown",
   "metadata": {
    "tags": []
   },
   "source": [
    "## Partie 2  : Modèle de base (régression linéaire)"
   ]
  },
  {
   "cell_type": "code",
   "execution_count": 44,
   "metadata": {},
   "outputs": [
    {
     "name": "stdout",
     "output_type": "stream",
     "text": [
      "     Store       Date  Weekly_Sales  Holiday_Flag  Temperature  Fuel_Price  \\\n",
      "14    17.0 2010-01-10     829207.27           0.0        60.07       2.853   \n",
      "20     7.0 2010-02-04     561145.14           0.0        38.26       2.725   \n",
      "99    13.0 2010-02-07    2018314.71           0.0        78.82       2.814   \n",
      "47    19.0 2010-02-07    1549018.68           0.0        66.25       2.958   \n",
      "115   15.0 2010-02-19     660838.75           0.0          NaN       2.909   \n",
      "..     ...        ...           ...           ...          ...         ...   \n",
      "92     3.0        NaT     384200.69           0.0          NaN       2.667   \n",
      "102   18.0        NaT    1087051.26           0.0        69.75       3.815   \n",
      "129   18.0        NaT    1048134.24           0.0        73.25       3.840   \n",
      "137   10.0        NaT    1831676.03           0.0        88.44       3.112   \n",
      "146    7.0        NaT     716388.81           NaN        20.74       2.778   \n",
      "\n",
      "            CPI  Unemployment    Year  Month   Day  Day_of_week  \n",
      "14   126.234600         6.885  2010.0    1.0  10.0          6.0  \n",
      "20   189.704822         8.963  2010.0    2.0   4.0          3.0  \n",
      "99   126.139200         7.951  2010.0    2.0   7.0          6.0  \n",
      "47   132.521867         8.099  2010.0    2.0   7.0          6.0  \n",
      "115  131.637000           NaN  2010.0    2.0  19.0          4.0  \n",
      "..          ...           ...     ...    ...   ...          ...  \n",
      "92   214.702765           NaN     NaN    NaN   NaN          NaN  \n",
      "102  135.446800         8.890     NaN    NaN   NaN          NaN  \n",
      "129  138.185710         8.535     NaN    NaN   NaN          NaN  \n",
      "137  126.128355         9.199     NaN    NaN   NaN          NaN  \n",
      "146         NaN           NaN     NaN    NaN   NaN          NaN  \n",
      "\n",
      "[150 rows x 12 columns]\n",
      "Rearranging ..................\n",
      "..............................\n",
      "     Store       Date  Holiday_Flag  Temperature  Fuel_Price         CPI  \\\n",
      "14    17.0 2010-01-10           0.0        60.07       2.853  126.234600   \n",
      "20     7.0 2010-02-04           0.0        38.26       2.725  189.704822   \n",
      "99    13.0 2010-02-07           0.0        78.82       2.814  126.139200   \n",
      "47    19.0 2010-02-07           0.0        66.25       2.958  132.521867   \n",
      "115   15.0 2010-02-19           0.0          NaN       2.909  131.637000   \n",
      "..     ...        ...           ...          ...         ...         ...   \n",
      "92     3.0        NaT           0.0          NaN       2.667  214.702765   \n",
      "102   18.0        NaT           0.0        69.75       3.815  135.446800   \n",
      "129   18.0        NaT           0.0        73.25       3.840  138.185710   \n",
      "137   10.0        NaT           0.0        88.44       3.112  126.128355   \n",
      "146    7.0        NaT           NaN        20.74       2.778         NaN   \n",
      "\n",
      "     Unemployment    Year  Month   Day  Day_of_week  Weekly_Sales  \n",
      "14          6.885  2010.0    1.0  10.0          6.0     829207.27  \n",
      "20          8.963  2010.0    2.0   4.0          3.0     561145.14  \n",
      "99          7.951  2010.0    2.0   7.0          6.0    2018314.71  \n",
      "47          8.099  2010.0    2.0   7.0          6.0    1549018.68  \n",
      "115           NaN  2010.0    2.0  19.0          4.0     660838.75  \n",
      "..            ...     ...    ...   ...          ...           ...  \n",
      "92            NaN     NaN    NaN   NaN          NaN     384200.69  \n",
      "102         8.890     NaN    NaN   NaN          NaN    1087051.26  \n",
      "129         8.535     NaN    NaN   NaN          NaN    1048134.24  \n",
      "137         9.199     NaN    NaN   NaN          NaN    1831676.03  \n",
      "146           NaN     NaN    NaN   NaN          NaN     716388.81  \n",
      "\n",
      "[150 rows x 12 columns]\n"
     ]
    }
   ],
   "source": [
    "##réindaxation des colonnes\n",
    "print(df)\n",
    "print('Rearranging ..................')\n",
    "print('..............................')\n",
    "df = df.reindex(columns=['Store', 'Date', 'Holiday_Flag', 'Temperature',\n",
    "       'Fuel_Price', 'CPI', 'Unemployment', 'Year', 'Month', 'Day',\n",
    "       'Day_of_week','Weekly_Sales'])\n",
    "print(df)"
   ]
  },
  {
   "cell_type": "code",
   "execution_count": 45,
   "metadata": {},
   "outputs": [],
   "source": [
    "##Suppréssion des valeurs manquantes pour les ventes hebdomadaires"
   ]
  },
  {
   "cell_type": "code",
   "execution_count": 49,
   "metadata": {},
   "outputs": [
    {
     "name": "stdout",
     "output_type": "stream",
     "text": [
      "Percentage of missing values: \n"
     ]
    },
    {
     "data": {
      "text/plain": [
       "Store            0.000000\n",
       "Date            12.000000\n",
       "Holiday_Flag     8.000000\n",
       "Temperature     12.000000\n",
       "Fuel_Price       9.333333\n",
       "CPI              8.000000\n",
       "Unemployment    10.000000\n",
       "Year            12.000000\n",
       "Month           12.000000\n",
       "Day             12.000000\n",
       "Day_of_week     12.000000\n",
       "Weekly_Sales     9.333333\n",
       "dtype: float64"
      ]
     },
     "metadata": {},
     "output_type": "display_data"
    }
   ],
   "source": [
    "print(\"Percentage of missing values: \")\n",
    "display(100*df.isnull().sum()/df.shape[0])"
   ]
  },
  {
   "cell_type": "code",
   "execution_count": 50,
   "metadata": {},
   "outputs": [
    {
     "name": "stdout",
     "output_type": "stream",
     "text": [
      "     Store   Date  Holiday_Flag  Temperature  Fuel_Price    CPI  Unemployment  \\\n",
      "14   False  False         False        False       False  False         False   \n",
      "20   False  False         False        False       False  False         False   \n",
      "99   False  False         False        False       False  False         False   \n",
      "47   False  False         False        False       False  False         False   \n",
      "115  False  False         False         True       False  False          True   \n",
      "..     ...    ...           ...          ...         ...    ...           ...   \n",
      "91   False   True         False        False       False   True         False   \n",
      "92   False   True         False         True       False  False          True   \n",
      "102  False   True         False        False       False  False         False   \n",
      "129  False   True         False        False       False  False         False   \n",
      "137  False   True         False        False       False  False         False   \n",
      "\n",
      "      Year  Month    Day  Day_of_week  Weekly_Sales  \n",
      "14   False  False  False        False         False  \n",
      "20   False  False  False        False         False  \n",
      "99   False  False  False        False         False  \n",
      "47   False  False  False        False         False  \n",
      "115  False  False  False        False         False  \n",
      "..     ...    ...    ...          ...           ...  \n",
      "91    True   True   True         True         False  \n",
      "92    True   True   True         True         False  \n",
      "102   True   True   True         True         False  \n",
      "129   True   True   True         True         False  \n",
      "137   True   True   True         True         False  \n",
      "\n",
      "[149 rows x 12 columns]\n"
     ]
    }
   ],
   "source": [
    "print(df.iloc[:-1].isnull())"
   ]
  },
  {
   "cell_type": "code",
   "execution_count": 51,
   "metadata": {},
   "outputs": [
    {
     "name": "stdout",
     "output_type": "stream",
     "text": [
      "     Store       Date  Holiday_Flag  Temperature  Fuel_Price         CPI  \\\n",
      "14    17.0 2010-01-10           0.0        60.07       2.853  126.234600   \n",
      "20     7.0 2010-02-04           0.0        38.26       2.725  189.704822   \n",
      "99    13.0 2010-02-07           0.0        78.82       2.814  126.139200   \n",
      "47    19.0 2010-02-07           0.0        66.25       2.958  132.521867   \n",
      "115   15.0 2010-02-19           0.0          NaN       2.909  131.637000   \n",
      "..     ...        ...           ...          ...         ...         ...   \n",
      "92     3.0        NaT           0.0          NaN       2.667  214.702765   \n",
      "102   18.0        NaT           0.0        69.75       3.815  135.446800   \n",
      "129   18.0        NaT           0.0        73.25       3.840  138.185710   \n",
      "137   10.0        NaT           0.0        88.44       3.112  126.128355   \n",
      "146    7.0        NaT           NaN        20.74       2.778         NaN   \n",
      "\n",
      "     Unemployment    Year  Month   Day  Day_of_week  Weekly_Sales  \n",
      "14          6.885  2010.0    1.0  10.0          6.0     829207.27  \n",
      "20          8.963  2010.0    2.0   4.0          3.0     561145.14  \n",
      "99          7.951  2010.0    2.0   7.0          6.0    2018314.71  \n",
      "47          8.099  2010.0    2.0   7.0          6.0    1549018.68  \n",
      "115           NaN  2010.0    2.0  19.0          4.0     660838.75  \n",
      "..            ...     ...    ...   ...          ...           ...  \n",
      "92            NaN     NaN    NaN   NaN          NaN     384200.69  \n",
      "102         8.890     NaN    NaN   NaN          NaN    1087051.26  \n",
      "129         8.535     NaN    NaN   NaN          NaN    1048134.24  \n",
      "137         9.199     NaN    NaN   NaN          NaN    1831676.03  \n",
      "146           NaN     NaN    NaN   NaN          NaN     716388.81  \n",
      "\n",
      "[136 rows x 12 columns]\n"
     ]
    },
    {
     "name": "stderr",
     "output_type": "stream",
     "text": [
      "/tmp/ipykernel_48/803253076.py:3: FutureWarning:\n",
      "\n",
      "In a future version of pandas all arguments of DataFrame.drop except for the argument 'labels' will be keyword-only.\n",
      "\n"
     ]
    }
   ],
   "source": [
    "index_with_nan = df.index[df.iloc[:,-1].isnull()]\n",
    "\n",
    "df.drop(index_with_nan,0, inplace=True)\n",
    "\n",
    "print(df)"
   ]
  },
  {
   "cell_type": "code",
   "execution_count": 52,
   "metadata": {},
   "outputs": [
    {
     "name": "stdout",
     "output_type": "stream",
     "text": [
      "Percentage of missing values: \n"
     ]
    },
    {
     "data": {
      "text/plain": [
       "Store            0.000000\n",
       "Date            13.235294\n",
       "Holiday_Flag     8.088235\n",
       "Temperature     11.029412\n",
       "Fuel_Price       8.823529\n",
       "CPI              8.088235\n",
       "Unemployment    10.294118\n",
       "Year            13.235294\n",
       "Month           13.235294\n",
       "Day             13.235294\n",
       "Day_of_week     13.235294\n",
       "Weekly_Sales     0.000000\n",
       "dtype: float64"
      ]
     },
     "metadata": {},
     "output_type": "display_data"
    }
   ],
   "source": [
    "print(\"Percentage of missing values: \")\n",
    "display(100*df.isnull().sum()/df.shape[0])"
   ]
  },
  {
   "cell_type": "code",
   "execution_count": 53,
   "metadata": {},
   "outputs": [
    {
     "data": {
      "text/plain": [
       "(136, 12)"
      ]
     },
     "execution_count": 53,
     "metadata": {},
     "output_type": "execute_result"
    }
   ],
   "source": [
    "df.shape\n"
   ]
  },
  {
   "cell_type": "code",
   "execution_count": null,
   "metadata": {},
   "outputs": [],
   "source": [
    "##Suppréssion  des valeurs aberrantes en utilisant Z-score: "
   ]
  },
  {
   "cell_type": "code",
   "execution_count": 112,
   "metadata": {},
   "outputs": [],
   "source": [
    "df_clean = df.copy()"
   ]
  },
  {
   "cell_type": "code",
   "execution_count": 113,
   "metadata": {},
   "outputs": [
    {
     "data": {
      "text/plain": [
       "12.523867092274017"
      ]
     },
     "execution_count": 113,
     "metadata": {},
     "output_type": "execute_result"
    }
   ],
   "source": [
    "#Supprimer les valeurs aberrantes pour le taux de chomage\n",
    "upper_bound3=df[\"Unemployment\"].mean()+df[\"Unemployment\"].std()*3\n",
    "upper_bound3"
   ]
  },
  {
   "cell_type": "code",
   "execution_count": 114,
   "metadata": {},
   "outputs": [
    {
     "data": {
      "text/plain": [
       "2.807296842152211"
      ]
     },
     "execution_count": 114,
     "metadata": {},
     "output_type": "execute_result"
    }
   ],
   "source": [
    "lower_bound3=df[\"Unemployment\"].mean()-df[\"Unemployment\"].std()*3\n",
    "lower_bound3"
   ]
  },
  {
   "cell_type": "code",
   "execution_count": 115,
   "metadata": {},
   "outputs": [],
   "source": [
    "mask3=(((df_clean[\"Unemployment\"] < upper_bound3) & (df_clean[\"Unemployment\"] > lower_bound3)) | df_clean[\"Unemployment\"].isna())\n",
    "df_clean = df_clean[mask3]"
   ]
  },
  {
   "cell_type": "code",
   "execution_count": 116,
   "metadata": {},
   "outputs": [
    {
     "data": {
      "text/plain": [
       "4.755612641575396"
      ]
     },
     "execution_count": 116,
     "metadata": {},
     "output_type": "execute_result"
    }
   ],
   "source": [
    "#Supprimer les valeurs aberrantes pour Fuel_Price \n",
    "upper_bound1=df[\"Fuel_Price\"].mean()+df[\"Fuel_Price\"].std()*3\n",
    "upper_bound1"
   ]
  },
  {
   "cell_type": "code",
   "execution_count": 117,
   "metadata": {},
   "outputs": [
    {
     "data": {
      "text/plain": [
       "1.878371229392345"
      ]
     },
     "execution_count": 117,
     "metadata": {},
     "output_type": "execute_result"
    }
   ],
   "source": [
    "lower_bound1=df[\"Fuel_Price\"].mean()-df[\"Fuel_Price\"].std()*3\n",
    "lower_bound1"
   ]
  },
  {
   "cell_type": "code",
   "execution_count": 118,
   "metadata": {},
   "outputs": [],
   "source": [
    "mask1=(((df_clean[\"Fuel_Price\"] < upper_bound1) & (df_clean[\"Fuel_Price\"] > lower_bound1)) | df_clean[\"Fuel_Price\"].isna())\n",
    "df_clean = df_clean[mask1]"
   ]
  },
  {
   "cell_type": "code",
   "execution_count": 119,
   "metadata": {},
   "outputs": [
    {
     "data": {
      "text/plain": [
       "298.82045814693976"
      ]
     },
     "execution_count": 119,
     "metadata": {},
     "output_type": "execute_result"
    }
   ],
   "source": [
    "#Supprimer les valeurs aberrantes pour CPI \n",
    "upper_bound2=df[\"CPI\"].mean()+df[\"CPI\"].std()*3\n",
    "upper_bound2"
   ]
  },
  {
   "cell_type": "code",
   "execution_count": 120,
   "metadata": {},
   "outputs": [
    {
     "data": {
      "text/plain": [
       "57.36182994106019"
      ]
     },
     "execution_count": 120,
     "metadata": {},
     "output_type": "execute_result"
    }
   ],
   "source": [
    "lower_bound2=df[\"CPI\"].mean()-df[\"CPI\"].std()*3\n",
    "lower_bound2"
   ]
  },
  {
   "cell_type": "code",
   "execution_count": 121,
   "metadata": {},
   "outputs": [],
   "source": [
    "mask2=(((df_clean[\"CPI\"] < upper_bound2) & (df_clean[\"CPI\"] > lower_bound2)) | df_clean[\"CPI\"].isna())\n",
    "df_clean = df_clean[mask2]"
   ]
  },
  {
   "cell_type": "code",
   "execution_count": 122,
   "metadata": {},
   "outputs": [
    {
     "data": {
      "text/plain": [
       "116.39726255188086"
      ]
     },
     "execution_count": 122,
     "metadata": {},
     "output_type": "execute_result"
    }
   ],
   "source": [
    "#Supprimer les valeurs aberrantes pour les températures\n",
    "upper_bound=df[\"Temperature\"].mean()+df[\"Temperature\"].std()*3\n",
    "upper_bound"
   ]
  },
  {
   "cell_type": "code",
   "execution_count": 123,
   "metadata": {},
   "outputs": [
    {
     "data": {
      "text/plain": [
       "5.310671332416689"
      ]
     },
     "execution_count": 123,
     "metadata": {},
     "output_type": "execute_result"
    }
   ],
   "source": [
    "lower_bound=df[\"Temperature\"].mean()-df[\"Temperature\"].std()*3\n",
    "lower_bound"
   ]
  },
  {
   "cell_type": "code",
   "execution_count": 124,
   "metadata": {},
   "outputs": [],
   "source": [
    "mask=(((df_clean[\"Temperature\"] < upper_bound) & (df_clean[\"Temperature\"] > lower_bound)) | df_clean[\"Temperature\"].isna())\n",
    "df_clean = df_clean[mask]"
   ]
  },
  {
   "cell_type": "code",
   "execution_count": 125,
   "metadata": {},
   "outputs": [
    {
     "data": {
      "text/plain": [
       "(131, 12)"
      ]
     },
     "execution_count": 125,
     "metadata": {},
     "output_type": "execute_result"
    }
   ],
   "source": [
    "df_clean.shape"
   ]
  },
  {
   "cell_type": "code",
   "execution_count": 126,
   "metadata": {},
   "outputs": [
    {
     "data": {
      "text/plain": [
       "(136, 12)"
      ]
     },
     "execution_count": 126,
     "metadata": {},
     "output_type": "execute_result"
    }
   ],
   "source": [
    "df.shape"
   ]
  },
  {
   "cell_type": "code",
   "execution_count": 130,
   "metadata": {},
   "outputs": [],
   "source": [
    "df_clean.drop(columns=[\"Date\"],inplace=True)"
   ]
  },
  {
   "cell_type": "code",
   "execution_count": 131,
   "metadata": {},
   "outputs": [
    {
     "data": {
      "text/html": [
       "<div>\n",
       "<style scoped>\n",
       "    .dataframe tbody tr th:only-of-type {\n",
       "        vertical-align: middle;\n",
       "    }\n",
       "\n",
       "    .dataframe tbody tr th {\n",
       "        vertical-align: top;\n",
       "    }\n",
       "\n",
       "    .dataframe thead th {\n",
       "        text-align: right;\n",
       "    }\n",
       "</style>\n",
       "<table border=\"1\" class=\"dataframe\">\n",
       "  <thead>\n",
       "    <tr style=\"text-align: right;\">\n",
       "      <th></th>\n",
       "      <th>Store</th>\n",
       "      <th>Holiday_Flag</th>\n",
       "      <th>Temperature</th>\n",
       "      <th>Fuel_Price</th>\n",
       "      <th>CPI</th>\n",
       "      <th>Unemployment</th>\n",
       "      <th>Year</th>\n",
       "      <th>Month</th>\n",
       "      <th>Day</th>\n",
       "      <th>Day_of_week</th>\n",
       "      <th>Weekly_Sales</th>\n",
       "    </tr>\n",
       "  </thead>\n",
       "  <tbody>\n",
       "    <tr>\n",
       "      <th>14</th>\n",
       "      <td>17.0</td>\n",
       "      <td>0.0</td>\n",
       "      <td>60.07</td>\n",
       "      <td>2.853</td>\n",
       "      <td>126.234600</td>\n",
       "      <td>6.885</td>\n",
       "      <td>2010.0</td>\n",
       "      <td>1.0</td>\n",
       "      <td>10.0</td>\n",
       "      <td>6.0</td>\n",
       "      <td>829207.27</td>\n",
       "    </tr>\n",
       "    <tr>\n",
       "      <th>20</th>\n",
       "      <td>7.0</td>\n",
       "      <td>0.0</td>\n",
       "      <td>38.26</td>\n",
       "      <td>2.725</td>\n",
       "      <td>189.704822</td>\n",
       "      <td>8.963</td>\n",
       "      <td>2010.0</td>\n",
       "      <td>2.0</td>\n",
       "      <td>4.0</td>\n",
       "      <td>3.0</td>\n",
       "      <td>561145.14</td>\n",
       "    </tr>\n",
       "    <tr>\n",
       "      <th>99</th>\n",
       "      <td>13.0</td>\n",
       "      <td>0.0</td>\n",
       "      <td>78.82</td>\n",
       "      <td>2.814</td>\n",
       "      <td>126.139200</td>\n",
       "      <td>7.951</td>\n",
       "      <td>2010.0</td>\n",
       "      <td>2.0</td>\n",
       "      <td>7.0</td>\n",
       "      <td>6.0</td>\n",
       "      <td>2018314.71</td>\n",
       "    </tr>\n",
       "    <tr>\n",
       "      <th>47</th>\n",
       "      <td>19.0</td>\n",
       "      <td>0.0</td>\n",
       "      <td>66.25</td>\n",
       "      <td>2.958</td>\n",
       "      <td>132.521867</td>\n",
       "      <td>8.099</td>\n",
       "      <td>2010.0</td>\n",
       "      <td>2.0</td>\n",
       "      <td>7.0</td>\n",
       "      <td>6.0</td>\n",
       "      <td>1549018.68</td>\n",
       "    </tr>\n",
       "    <tr>\n",
       "      <th>115</th>\n",
       "      <td>15.0</td>\n",
       "      <td>0.0</td>\n",
       "      <td>NaN</td>\n",
       "      <td>2.909</td>\n",
       "      <td>131.637000</td>\n",
       "      <td>NaN</td>\n",
       "      <td>2010.0</td>\n",
       "      <td>2.0</td>\n",
       "      <td>19.0</td>\n",
       "      <td>4.0</td>\n",
       "      <td>660838.75</td>\n",
       "    </tr>\n",
       "  </tbody>\n",
       "</table>\n",
       "</div>"
      ],
      "text/plain": [
       "     Store  Holiday_Flag  Temperature  Fuel_Price         CPI  Unemployment  \\\n",
       "14    17.0           0.0        60.07       2.853  126.234600         6.885   \n",
       "20     7.0           0.0        38.26       2.725  189.704822         8.963   \n",
       "99    13.0           0.0        78.82       2.814  126.139200         7.951   \n",
       "47    19.0           0.0        66.25       2.958  132.521867         8.099   \n",
       "115   15.0           0.0          NaN       2.909  131.637000           NaN   \n",
       "\n",
       "       Year  Month   Day  Day_of_week  Weekly_Sales  \n",
       "14   2010.0    1.0  10.0          6.0     829207.27  \n",
       "20   2010.0    2.0   4.0          3.0     561145.14  \n",
       "99   2010.0    2.0   7.0          6.0    2018314.71  \n",
       "47   2010.0    2.0   7.0          6.0    1549018.68  \n",
       "115  2010.0    2.0  19.0          4.0     660838.75  "
      ]
     },
     "execution_count": 131,
     "metadata": {},
     "output_type": "execute_result"
    }
   ],
   "source": [
    "df_clean.head()"
   ]
  },
  {
   "cell_type": "code",
   "execution_count": null,
   "metadata": {},
   "outputs": [],
   "source": [
    "\n",
    "\n",
    "\n"
   ]
  },
  {
   "cell_type": "markdown",
   "metadata": {},
   "source": [
    "3 . Le modèle de régression linéaire"
   ]
  },
  {
   "cell_type": "code",
   "execution_count": 132,
   "metadata": {},
   "outputs": [],
   "source": [
    "X=df_clean.iloc[: ,:-1]\n",
    "Y=df_clean.iloc[:, -1:]"
   ]
  },
  {
   "cell_type": "code",
   "execution_count": 133,
   "metadata": {},
   "outputs": [
    {
     "name": "stdout",
     "output_type": "stream",
     "text": [
      "Dividing into train and test sets...\n",
      "...Done.\n",
      "\n"
     ]
    }
   ],
   "source": [
    "#Séparer la variable cible Y des entités X\n",
    "print(\"Dividing into train and test sets...\")\n",
    "X_train, X_test, Y_train, Y_test = train_test_split(X, Y, test_size=0.2, random_state=0)\n",
    "print(\"...Done.\")\n",
    "print()"
   ]
  },
  {
   "cell_type": "code",
   "execution_count": 134,
   "metadata": {},
   "outputs": [],
   "source": [
    "# Create pipeline for numeric features\n",
    "numeric_features = [2,3,4,5,6,7,8,9] # Positions of numeric columns in X_train/X_test\n",
    "numeric_transformer = Pipeline(steps=[\n",
    "    ('imputer', SimpleImputer(strategy='mean')), # missing values in Age will be replaced by columns' mean\n",
    "    ('scaler', StandardScaler())\n",
    "])"
   ]
  },
  {
   "cell_type": "code",
   "execution_count": 135,
   "metadata": {},
   "outputs": [],
   "source": [
    "categorical_features = [0,1] # Positions of categorical columns in X_train/X_test\n",
    "categorical_transformer = Pipeline(\n",
    "    steps=[\n",
    "    ('imputer', SimpleImputer(strategy='most_frequent')), # missing values will be replaced by most frequent value\n",
    "    ('encoder', OneHotEncoder(drop='first')) # first column will be dropped to avoid creating correlations between features\n",
    "    ])"
   ]
  },
  {
   "cell_type": "code",
   "execution_count": 166,
   "metadata": {},
   "outputs": [
    {
     "data": {
      "text/plain": [
       "array(['x0_2.0', 'x0_3.0', 'x0_4.0', 'x0_5.0', 'x0_6.0', 'x0_7.0',\n",
       "       'x0_8.0', 'x0_9.0', 'x0_10.0', 'x0_11.0', 'x0_13.0', 'x0_14.0',\n",
       "       'x0_15.0', 'x0_16.0', 'x0_17.0', 'x0_18.0', 'x0_19.0', 'x0_20.0',\n",
       "       'x1_1.0'], dtype=object)"
      ]
     },
     "execution_count": 166,
     "metadata": {},
     "output_type": "execute_result"
    }
   ],
   "source": [
    "preprocessor.named_transformers_['cat']['encoder'].get_feature_names_out()"
   ]
  },
  {
   "cell_type": "code",
   "execution_count": 136,
   "metadata": {},
   "outputs": [
    {
     "name": "stdout",
     "output_type": "stream",
     "text": [
      "Performing preprocessings on train set...\n",
      "...Done.\n",
      "[[-1.00772439e+00 -3.34059067e-02 -1.36236220e+00  1.43651231e+00\n",
      "   0.00000000e+00 -2.90069308e-16  4.69874694e-16 -3.86390309e-16\n",
      "   0.00000000e+00  0.00000000e+00  0.00000000e+00  0.00000000e+00\n",
      "   0.00000000e+00  0.00000000e+00  0.00000000e+00  0.00000000e+00\n",
      "   1.00000000e+00  0.00000000e+00  0.00000000e+00  0.00000000e+00\n",
      "   0.00000000e+00  0.00000000e+00  0.00000000e+00  0.00000000e+00\n",
      "   0.00000000e+00  0.00000000e+00  0.00000000e+00]\n",
      " [ 1.64648071e+00  8.26396385e-01  9.64783677e-01 -8.95564071e-01\n",
      "   1.81075060e-01  6.00623461e-02  1.79232351e+00  2.40020310e-01\n",
      "   0.00000000e+00  0.00000000e+00  0.00000000e+00  1.00000000e+00\n",
      "   0.00000000e+00  0.00000000e+00  0.00000000e+00  0.00000000e+00\n",
      "   0.00000000e+00  0.00000000e+00  0.00000000e+00  0.00000000e+00\n",
      "   0.00000000e+00  0.00000000e+00  0.00000000e+00  0.00000000e+00\n",
      "   0.00000000e+00  0.00000000e+00  0.00000000e+00]\n",
      " [ 1.03876643e+00 -1.18271125e+00  8.69619315e-01 -3.02806057e-01\n",
      "  -1.13171912e+00 -5.93115668e-01  1.66006554e+00  2.40020310e-01\n",
      "   0.00000000e+00  0.00000000e+00  0.00000000e+00  0.00000000e+00\n",
      "   1.00000000e+00  0.00000000e+00  0.00000000e+00  0.00000000e+00\n",
      "   0.00000000e+00  0.00000000e+00  0.00000000e+00  0.00000000e+00\n",
      "   0.00000000e+00  0.00000000e+00  0.00000000e+00  0.00000000e+00\n",
      "   0.00000000e+00  0.00000000e+00  0.00000000e+00]\n",
      " [-1.24607766e+00  1.37928191e+00  4.84877311e-01  7.47944383e-01\n",
      "   1.49386924e+00 -9.19704675e-01  6.02001789e-01  2.40020310e-01\n",
      "   0.00000000e+00  0.00000000e+00  0.00000000e+00  0.00000000e+00\n",
      "   0.00000000e+00  1.00000000e+00  0.00000000e+00  0.00000000e+00\n",
      "   0.00000000e+00  0.00000000e+00  0.00000000e+00  0.00000000e+00\n",
      "   0.00000000e+00  0.00000000e+00  0.00000000e+00  0.00000000e+00\n",
      "   0.00000000e+00  0.00000000e+00  0.00000000e+00]\n",
      " [ 4.10073092e-16  1.06801171e+00 -1.26163955e+00 -1.20510378e+00\n",
      "   0.00000000e+00 -2.90069308e-16  4.69874694e-16 -3.86390309e-16\n",
      "   0.00000000e+00  0.00000000e+00  0.00000000e+00  0.00000000e+00\n",
      "   0.00000000e+00  0.00000000e+00  0.00000000e+00  0.00000000e+00\n",
      "   0.00000000e+00  0.00000000e+00  0.00000000e+00  0.00000000e+00\n",
      "   0.00000000e+00  0.00000000e+00  1.00000000e+00  0.00000000e+00\n",
      "   0.00000000e+00  0.00000000e+00  0.00000000e+00]]\n",
      "\n",
      "Performing preprocessings on test set...\n",
      "...Done.\n",
      "[[ 1.01798987e+00 -1.30025384e+00  9.24172772e-01 -3.85391631e-02\n",
      "  -1.13171912e+00 -9.19704675e-01 -1.24960977e+00 -2.37020056e+00\n",
      "   0.00000000e+00  1.00000000e+00  0.00000000e+00  0.00000000e+00\n",
      "   0.00000000e+00  0.00000000e+00  0.00000000e+00  0.00000000e+00\n",
      "   0.00000000e+00  0.00000000e+00  0.00000000e+00  0.00000000e+00\n",
      "   0.00000000e+00  0.00000000e+00  0.00000000e+00  0.00000000e+00\n",
      "   0.00000000e+00  0.00000000e+00  0.00000000e+00]\n",
      " [ 4.10073092e-16  1.61872052e+00  1.76214678e-01  1.20172538e+00\n",
      "   1.81075060e-01 -2.66526661e-01 -1.38186774e+00  1.98016756e+00\n",
      "   0.00000000e+00  0.00000000e+00  0.00000000e+00  0.00000000e+00\n",
      "   0.00000000e+00  0.00000000e+00  0.00000000e+00  0.00000000e+00\n",
      "   0.00000000e+00  0.00000000e+00  0.00000000e+00  1.00000000e+00\n",
      "   0.00000000e+00  0.00000000e+00  0.00000000e+00  0.00000000e+00\n",
      "   0.00000000e+00  0.00000000e+00  0.00000000e+00]\n",
      " [ 2.22132333e-01  9.39585547e-01  1.10006735e+00 -3.32748824e-02\n",
      "   1.49386924e+00 -1.24629368e+00  7.29699138e-02  2.40020310e-01\n",
      "   0.00000000e+00  0.00000000e+00  0.00000000e+00  0.00000000e+00\n",
      "   0.00000000e+00  0.00000000e+00  0.00000000e+00  0.00000000e+00\n",
      "   0.00000000e+00  0.00000000e+00  0.00000000e+00  0.00000000e+00\n",
      "   0.00000000e+00  0.00000000e+00  0.00000000e+00  0.00000000e+00\n",
      "   0.00000000e+00  0.00000000e+00  0.00000000e+00]\n",
      " [-2.42976425e+00 -4.33921404e-01  4.63840259e-01  9.22718504e-01\n",
      "   1.49386924e+00  1.03982937e+00 -1.77864165e+00 -2.37020056e+00\n",
      "   0.00000000e+00  0.00000000e+00  0.00000000e+00  0.00000000e+00\n",
      "   0.00000000e+00  1.00000000e+00  0.00000000e+00  0.00000000e+00\n",
      "   0.00000000e+00  0.00000000e+00  0.00000000e+00  0.00000000e+00\n",
      "   0.00000000e+00  0.00000000e+00  0.00000000e+00  0.00000000e+00\n",
      "   0.00000000e+00  0.00000000e+00  1.00000000e+00]\n",
      " [ 4.10073092e-16  4.80298754e-01  9.96846526e-01 -4.78633035e-01\n",
      "   1.81075060e-01  3.86651353e-01  1.39554960e+00  2.40020310e-01\n",
      "   0.00000000e+00  0.00000000e+00  0.00000000e+00  0.00000000e+00\n",
      "   1.00000000e+00  0.00000000e+00  0.00000000e+00  0.00000000e+00\n",
      "   0.00000000e+00  0.00000000e+00  0.00000000e+00  0.00000000e+00\n",
      "   0.00000000e+00  0.00000000e+00  0.00000000e+00  0.00000000e+00\n",
      "   0.00000000e+00  0.00000000e+00  0.00000000e+00]]\n",
      "\n"
     ]
    }
   ],
   "source": [
    "# Use ColumnTranformer to make a preprocessor object that describes all the treatments to be done\n",
    "preprocessor = ColumnTransformer(\n",
    "    transformers=[\n",
    "        ('num', numeric_transformer, numeric_features),\n",
    "        ('cat', categorical_transformer, categorical_features)\n",
    "    ])\n",
    "\n",
    "# Preprocessings on train set\n",
    "print(\"Performing preprocessings on train set...\")\n",
    "#print(X_train[0:5,:])\n",
    "X_train = preprocessor.fit_transform(X_train)\n",
    "print('...Done.')\n",
    "print(X_train[0:5,:])\n",
    "print()\n",
    "\n",
    "# Preprocessings on test set\n",
    "print(\"Performing preprocessings on test set...\")\n",
    "#print(X_test[0:5,:])\n",
    "X_test = preprocessor.transform(X_test) # Don't fit again !!\n",
    "print('...Done.')\n",
    "print(X_test[0:5,:])\n",
    "print()"
   ]
  },
  {
   "cell_type": "code",
   "execution_count": 137,
   "metadata": {},
   "outputs": [
    {
     "data": {
      "text/plain": [
       "array([[-1.00772439e+00, -3.34059067e-02, -1.36236220e+00, ...,\n",
       "         0.00000000e+00,  0.00000000e+00,  0.00000000e+00],\n",
       "       [ 1.64648071e+00,  8.26396385e-01,  9.64783677e-01, ...,\n",
       "         0.00000000e+00,  0.00000000e+00,  0.00000000e+00],\n",
       "       [ 1.03876643e+00, -1.18271125e+00,  8.69619315e-01, ...,\n",
       "         0.00000000e+00,  0.00000000e+00,  0.00000000e+00],\n",
       "       ...,\n",
       "       [ 1.26673142e+00,  7.06677078e-01, -1.31105506e+00, ...,\n",
       "         0.00000000e+00,  0.00000000e+00,  0.00000000e+00],\n",
       "       [ 4.10073092e-16,  9.30878689e-01,  1.13220836e+00, ...,\n",
       "         0.00000000e+00,  0.00000000e+00,  1.00000000e+00],\n",
       "       [-1.93285828e+00, -3.55559677e-01,  0.00000000e+00, ...,\n",
       "         0.00000000e+00,  0.00000000e+00,  0.00000000e+00]])"
      ]
     },
     "execution_count": 137,
     "metadata": {},
     "output_type": "execute_result"
    }
   ],
   "source": [
    "# This will create an AttributeError because X_train is not a pandas DataFrame anymore !\n",
    "X_train\n"
   ]
  },
  {
   "cell_type": "code",
   "execution_count": 138,
   "metadata": {},
   "outputs": [
    {
     "data": {
      "text/plain": [
       "numpy.ndarray"
      ]
     },
     "execution_count": 138,
     "metadata": {},
     "output_type": "execute_result"
    }
   ],
   "source": [
    "# Actually, X_train is a numpy array \n",
    "type(X_train)\n"
   ]
  },
  {
   "cell_type": "code",
   "execution_count": 139,
   "metadata": {},
   "outputs": [
    {
     "data": {
      "text/plain": [
       "array([[-1.00772439e+00, -3.34059067e-02, -1.36236220e+00,\n",
       "         1.43651231e+00,  0.00000000e+00, -2.90069308e-16,\n",
       "         4.69874694e-16, -3.86390309e-16,  0.00000000e+00,\n",
       "         0.00000000e+00,  0.00000000e+00,  0.00000000e+00,\n",
       "         0.00000000e+00,  0.00000000e+00,  0.00000000e+00,\n",
       "         0.00000000e+00,  1.00000000e+00,  0.00000000e+00,\n",
       "         0.00000000e+00,  0.00000000e+00,  0.00000000e+00,\n",
       "         0.00000000e+00,  0.00000000e+00,  0.00000000e+00,\n",
       "         0.00000000e+00,  0.00000000e+00,  0.00000000e+00],\n",
       "       [ 1.64648071e+00,  8.26396385e-01,  9.64783677e-01,\n",
       "        -8.95564071e-01,  1.81075060e-01,  6.00623461e-02,\n",
       "         1.79232351e+00,  2.40020310e-01,  0.00000000e+00,\n",
       "         0.00000000e+00,  0.00000000e+00,  1.00000000e+00,\n",
       "         0.00000000e+00,  0.00000000e+00,  0.00000000e+00,\n",
       "         0.00000000e+00,  0.00000000e+00,  0.00000000e+00,\n",
       "         0.00000000e+00,  0.00000000e+00,  0.00000000e+00,\n",
       "         0.00000000e+00,  0.00000000e+00,  0.00000000e+00,\n",
       "         0.00000000e+00,  0.00000000e+00,  0.00000000e+00],\n",
       "       [ 1.03876643e+00, -1.18271125e+00,  8.69619315e-01,\n",
       "        -3.02806057e-01, -1.13171912e+00, -5.93115668e-01,\n",
       "         1.66006554e+00,  2.40020310e-01,  0.00000000e+00,\n",
       "         0.00000000e+00,  0.00000000e+00,  0.00000000e+00,\n",
       "         1.00000000e+00,  0.00000000e+00,  0.00000000e+00,\n",
       "         0.00000000e+00,  0.00000000e+00,  0.00000000e+00,\n",
       "         0.00000000e+00,  0.00000000e+00,  0.00000000e+00,\n",
       "         0.00000000e+00,  0.00000000e+00,  0.00000000e+00,\n",
       "         0.00000000e+00,  0.00000000e+00,  0.00000000e+00],\n",
       "       [-1.24607766e+00,  1.37928191e+00,  4.84877311e-01,\n",
       "         7.47944383e-01,  1.49386924e+00, -9.19704675e-01,\n",
       "         6.02001789e-01,  2.40020310e-01,  0.00000000e+00,\n",
       "         0.00000000e+00,  0.00000000e+00,  0.00000000e+00,\n",
       "         0.00000000e+00,  1.00000000e+00,  0.00000000e+00,\n",
       "         0.00000000e+00,  0.00000000e+00,  0.00000000e+00,\n",
       "         0.00000000e+00,  0.00000000e+00,  0.00000000e+00,\n",
       "         0.00000000e+00,  0.00000000e+00,  0.00000000e+00,\n",
       "         0.00000000e+00,  0.00000000e+00,  0.00000000e+00],\n",
       "       [ 4.10073092e-16,  1.06801171e+00, -1.26163955e+00,\n",
       "        -1.20510378e+00,  0.00000000e+00, -2.90069308e-16,\n",
       "         4.69874694e-16, -3.86390309e-16,  0.00000000e+00,\n",
       "         0.00000000e+00,  0.00000000e+00,  0.00000000e+00,\n",
       "         0.00000000e+00,  0.00000000e+00,  0.00000000e+00,\n",
       "         0.00000000e+00,  0.00000000e+00,  0.00000000e+00,\n",
       "         0.00000000e+00,  0.00000000e+00,  0.00000000e+00,\n",
       "         0.00000000e+00,  1.00000000e+00,  0.00000000e+00,\n",
       "         0.00000000e+00,  0.00000000e+00,  0.00000000e+00]])"
      ]
     },
     "execution_count": 139,
     "metadata": {},
     "output_type": "execute_result"
    }
   ],
   "source": [
    "# Numpy syntax to display 5 first lines\n",
    "X_train[0:5]\n"
   ]
  },
  {
   "cell_type": "code",
   "execution_count": 140,
   "metadata": {},
   "outputs": [
    {
     "name": "stdout",
     "output_type": "stream",
     "text": [
      "Training model...\n",
      "...Done.\n"
     ]
    }
   ],
   "source": [
    "# Train model\n",
    "model = LinearRegression()\n",
    "\n",
    "print(\"Training model...\")\n",
    "model.fit(X_train, Y_train) # Training is always done on train set !!\n",
    "print(\"...Done.\")\n"
   ]
  },
  {
   "cell_type": "code",
   "execution_count": 141,
   "metadata": {},
   "outputs": [
    {
     "name": "stdout",
     "output_type": "stream",
     "text": [
      "Predictions on training set...\n",
      "...Done.\n",
      "[[1905425.14527985]\n",
      " [ 234114.40241882]\n",
      " [1603461.64754518]\n",
      " [ 507233.23935647]\n",
      " [ 869818.92779258]]\n",
      "\n"
     ]
    }
   ],
   "source": [
    "# Predictions on training set\n",
    "print(\"Predictions on training set...\")\n",
    "Y_train_pred = model.predict(X_train)\n",
    "print(\"...Done.\")\n",
    "print(Y_train_pred[0:5])\n",
    "print()\n"
   ]
  },
  {
   "cell_type": "code",
   "execution_count": 142,
   "metadata": {},
   "outputs": [
    {
     "name": "stdout",
     "output_type": "stream",
     "text": [
      "Predictions on test set...\n",
      "...Done.\n",
      "[[ 438006.12156809]\n",
      " [2024587.62012664]\n",
      " [1458116.36310634]\n",
      " [ 650722.91265248]\n",
      " [1635383.22362284]]\n",
      "\n"
     ]
    }
   ],
   "source": [
    "# Predictions on test set\n",
    "print(\"Predictions on test set...\")\n",
    "Y_test_pred = model.predict(X_test)\n",
    "print(\"...Done.\")\n",
    "print(Y_test_pred[0:5])\n",
    "print()\n"
   ]
  },
  {
   "cell_type": "code",
   "execution_count": 143,
   "metadata": {},
   "outputs": [
    {
     "name": "stdout",
     "output_type": "stream",
     "text": [
      "R2 score on training set :  0.9653964087352943\n",
      "R2 score on test set :  0.9418016237917336\n"
     ]
    }
   ],
   "source": [
    " #Print R2 scores\n",
    "print(\"R2 score on training set : \", r2_score(Y_train, Y_train_pred))\n",
    "print(\"R2 score on test set : \", r2_score(Y_test, Y_test_pred))"
   ]
  },
  {
   "cell_type": "markdown",
   "metadata": {},
   "source": [
    "#Training _Machine Learning\n"
   ]
  },
  {
   "cell_type": "code",
   "execution_count": null,
   "metadata": {},
   "outputs": [],
   "source": [
    "#Comment interprèter le modèle en fonction des coefficients"
   ]
  },
  {
   "cell_type": "code",
   "execution_count": 147,
   "metadata": {},
   "outputs": [
    {
     "data": {
      "text/plain": [
       "array([[  -46797.61745467,    -4315.4046754 ,    34443.69651291,\n",
       "          -82990.26426875,   -50063.44221956,    37078.78008677,\n",
       "           -3427.65880678,   -14873.20691794,   373110.03815068,\n",
       "        -1173821.46339035,   548254.51078328, -1333003.97139198,\n",
       "            9747.25049453,  -941967.55447926,  -836866.47841798,\n",
       "        -1162967.15465248,   467529.49574193,  -189207.06945022,\n",
       "          496248.81913545,   612163.95623508,  -823026.60785441,\n",
       "        -1107598.81986108,  -738862.23630261,  -297601.2513867 ,\n",
       "          -27239.24561148,   481151.42341074,   -24139.12130407]])"
      ]
     },
     "execution_count": 147,
     "metadata": {},
     "output_type": "execute_result"
    }
   ],
   "source": [
    "regressor.coef_"
   ]
  },
  {
   "cell_type": "markdown",
   "metadata": {},
   "source": [
    "4combattre le surentraînement "
   ]
  },
  {
   "cell_type": "code",
   "execution_count": 188,
   "metadata": {},
   "outputs": [],
   "source": [
    "from sklearn.linear_model import Ridge"
   ]
  },
  {
   "cell_type": "code",
   "execution_count": 190,
   "metadata": {},
   "outputs": [
    {
     "data": {
      "text/plain": [
       "Ridge()"
      ]
     },
     "execution_count": 190,
     "metadata": {},
     "output_type": "execute_result"
    }
   ],
   "source": [
    "#Model Ridge\n",
    "regressor = Ridge()\n",
    "regressor.fit(X_train, Y_train)\n",
    "regressor"
   ]
  },
  {
   "cell_type": "code",
   "execution_count": 192,
   "metadata": {},
   "outputs": [
    {
     "name": "stdout",
     "output_type": "stream",
     "text": [
      "R2 on train:  0.9270696598634236\n",
      "R2 on test:  0.9025367857579697\n"
     ]
    }
   ],
   "source": [
    "r2_score_train = regressor.score(X_train, Y_train)\n",
    "r2_score_test = regressor.score(X_test, Y_test)\n",
    "print(\"R2 on train: \", r2_score_train)\n",
    "print(\"R2 on test: \", r2_score_test) "
   ]
  },
  {
   "cell_type": "code",
   "execution_count": null,
   "metadata": {},
   "outputs": [],
   "source": [
    "regressor.coef_"
   ]
  },
  {
   "cell_type": "code",
   "execution_count": null,
   "metadata": {},
   "outputs": [],
   "source": [
    "#Grid Search"
   ]
  },
  {
   "cell_type": "code",
   "execution_count": 193,
   "metadata": {},
   "outputs": [
    {
     "data": {
      "text/plain": [
       "Ridge()"
      ]
     },
     "execution_count": 193,
     "metadata": {},
     "output_type": "execute_result"
    }
   ],
   "source": [
    "regressor = Ridge()\n",
    "regressor"
   ]
  },
  {
   "cell_type": "code",
   "execution_count": null,
   "metadata": {},
   "outputs": [
    {
     "ename": "NameError",
     "evalue": "name 'regressor' is not defined",
     "output_type": "error",
     "traceback": [
      "\u001b[0;31m---------------------------------------------------------------------------\u001b[0m",
      "\u001b[0;31mNameError\u001b[0m                                 Traceback (most recent call last)",
      "Input \u001b[0;32mIn [47]\u001b[0m, in \u001b[0;36m<module>\u001b[0;34m\u001b[0m\n\u001b[1;32m      1\u001b[0m params\u001b[38;5;241m=\u001b[39m {\n\u001b[1;32m      2\u001b[0m     \u001b[38;5;124m\"\u001b[39m\u001b[38;5;124malpha\u001b[39m\u001b[38;5;124m\"\u001b[39m:[\u001b[38;5;241m0.001\u001b[39m,\u001b[38;5;241m0.03\u001b[39m,\u001b[38;5;241m0.06\u001b[39m,\u001b[38;5;241m0.08\u001b[39m,\u001b[38;5;241m0.1\u001b[39m]\n\u001b[1;32m      3\u001b[0m }\n\u001b[0;32m----> 4\u001b[0m optimized_regressor \u001b[38;5;241m=\u001b[39m GridSearchCV(\u001b[43mregressor\u001b[49m,params,cv\u001b[38;5;241m=\u001b[39m\u001b[38;5;241m10\u001b[39m)\n\u001b[1;32m      5\u001b[0m optimized_regressor\u001b[38;5;241m.\u001b[39mfit(X_train,Y_train)\n",
      "\u001b[0;31mNameError\u001b[0m: name 'regressor' is not defined"
     ]
    }
   ],
   "source": [
    "params= {\n",
    "    \"alpha\":[0.001,0.03,0.06,0.08,0.1]\n",
    "}\n",
    "optimized_regressor = GridSearchCV(regressor,params,cv=2)\n",
    "optimized_regressor.fit(X_train,Y_train)"
   ]
  },
  {
   "cell_type": "code",
   "execution_count": 210,
   "metadata": {},
   "outputs": [
    {
     "data": {
      "text/plain": [
       "0.9412711364018167"
      ]
     },
     "execution_count": 210,
     "metadata": {},
     "output_type": "execute_result"
    }
   ],
   "source": [
    "optimized_regressor.score(X_test, Y_test)"
   ]
  },
  {
   "cell_type": "code",
   "execution_count": 211,
   "metadata": {},
   "outputs": [
    {
     "name": "stdout",
     "output_type": "stream",
     "text": [
      "Optimized estimator Ridge(alpha=0.03)\n",
      "Best Parameters {'alpha': 0.03}\n"
     ]
    }
   ],
   "source": [
    "print(\"Optimized estimator\", optimized_regressor.best_estimator_)\n",
    "print(\"Best Parameters\", optimized_regressor.best_params_)"
   ]
  },
  {
   "cell_type": "code",
   "execution_count": 212,
   "metadata": {},
   "outputs": [
    {
     "name": "stdout",
     "output_type": "stream",
     "text": [
      "R2 on train:  0.9652347533660777\n",
      "R2 on test:  0.9412711364018167\n"
     ]
    }
   ],
   "source": [
    "r2_score_train = optimized_regressor.score(X_train, Y_train)\n",
    "r2_score_test = optimized_regressor.score(X_test, Y_test)\n",
    "print(\"R2 on train: \", r2_score_train)\n",
    "print(\"R2 on test: \", r2_score_test) "
   ]
  },
  {
   "cell_type": "markdown",
   "metadata": {},
   "source": [
    "Comment determiner le meilleur paramètre : la CV cross validation; Par défault, il est toujours à 5."
   ]
  },
  {
   "cell_type": "code",
   "execution_count": null,
   "metadata": {},
   "outputs": [],
   "source": []
  },
  {
   "cell_type": "markdown",
   "metadata": {},
   "source": [
    "#model lasso\n",
    "Utilisez la fonction GridSearchCV afin de rechercher le meilleur paramètre de pénalisation pour le modèle LASSO. "
   ]
  },
  {
   "cell_type": "code",
   "execution_count": 46,
   "metadata": {},
   "outputs": [
    {
     "ename": "NameError",
     "evalue": "name 'X_train' is not defined",
     "output_type": "error",
     "traceback": [
      "\u001b[0;31m---------------------------------------------------------------------------\u001b[0m",
      "\u001b[0;31mNameError\u001b[0m                                 Traceback (most recent call last)",
      "Input \u001b[0;32mIn [46]\u001b[0m, in \u001b[0;36m<module>\u001b[0;34m\u001b[0m\n\u001b[1;32m      2\u001b[0m lasso \u001b[38;5;241m=\u001b[39m Lasso()\n\u001b[1;32m      3\u001b[0m grid \u001b[38;5;241m=\u001b[39m GridSearchCV(lasso,param_grid\u001b[38;5;241m=\u001b[39mparams, cv \u001b[38;5;241m=\u001b[39m \u001b[38;5;241m3\u001b[39m, verbose\u001b[38;5;241m=\u001b[39m\u001b[38;5;241m1\u001b[39m)\n\u001b[0;32m----> 5\u001b[0m grid\u001b[38;5;241m.\u001b[39mfit(\u001b[43mX_train\u001b[49m,Y_train)\n",
      "\u001b[0;31mNameError\u001b[0m: name 'X_train' is not defined"
     ]
    }
   ],
   "source": [
    "params = {'alpha' : [20, 200, 300, 400, 500]}\n",
    "lasso = Lasso()\n",
    "grid = GridSearchCV(lasso,param_grid=params, cv = 3, verbose=1)\n",
    "\n",
    "grid.fit(X_train,Y_train)"
   ]
  },
  {
   "cell_type": "code",
   "execution_count": 206,
   "metadata": {},
   "outputs": [
    {
     "data": {
      "text/plain": [
       "{'alpha': 100}"
      ]
     },
     "execution_count": 206,
     "metadata": {},
     "output_type": "execute_result"
    }
   ],
   "source": [
    "grid.best_params_"
   ]
  },
  {
   "cell_type": "code",
   "execution_count": 208,
   "metadata": {},
   "outputs": [
    {
     "name": "stdout",
     "output_type": "stream",
     "text": [
      "R2 on train:  0.9653745348334954\n",
      "R2 on test:  0.9423539526431669\n"
     ]
    }
   ],
   "source": [
    "r2_score_train = grid.score(X_train, Y_train)\n",
    "r2_score_test = grid.score(X_test, Y_test)\n",
    "print(\"R2 on train: \", r2_score_train)\n",
    "print(\"R2 on test: \", r2_score_test) "
   ]
  }
 ],
 "metadata": {
  "kernelspec": {
   "display_name": "Python 3 (ipykernel)",
   "language": "python",
   "name": "python3"
  },
  "language_info": {
   "codemirror_mode": {
    "name": "ipython",
    "version": 3
   },
   "file_extension": ".py",
   "mimetype": "text/x-python",
   "name": "python",
   "nbconvert_exporter": "python",
   "pygments_lexer": "ipython3",
   "version": "3.9.7"
  }
 },
 "nbformat": 4,
 "nbformat_minor": 4
}
